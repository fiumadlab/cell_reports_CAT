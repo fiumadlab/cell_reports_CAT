{
 "cells": [
  {
   "cell_type": "markdown",
   "metadata": {},
   "source": [
    "# MODEL ABC_corr (original ATM model)\n",
    "## ABCs for correct trials only\n",
    "## Compares activation for regions of interest using binarized masks:\n",
    "### Hippocampus (FS labels: hippocampus [17, 53])"
   ]
  },
  {
   "cell_type": "code",
   "execution_count": 2,
   "metadata": {
    "collapsed": false,
    "scrolled": true
   },
   "outputs": [],
   "source": [
    "import os\n",
    "from glob import glob\n",
    "import nibabel as nb\n",
    "import pandas as pd\n",
    "import numpy as np\n",
    "%matplotlib inline\n",
    "import seaborn as sns\n",
    "import matplotlib.pyplot as plt\n",
    "from scipy import stats\n",
    "sns.set_palette('muted')\n",
    "\n",
    "sids = ['WMAZE_001', 'WMAZE_002', 'WMAZE_004', 'WMAZE_005', 'WMAZE_006', \n",
    "        'WMAZE_007', 'WMAZE_008', 'WMAZE_009', 'WMAZE_010', 'WMAZE_012', \n",
    "        'WMAZE_017', 'WMAZE_018', 'WMAZE_019', 'WMAZE_020', 'WMAZE_021',  \n",
    "        'WMAZE_022', 'WMAZE_023', 'WMAZE_024', 'WMAZE_026', 'WMAZE_027']\n",
    "#sids = ['WMAZE_001']\n",
    "\n",
    "proj_dir = '/home/data/madlab/data/mri/wmaze' \n",
    "mask_filenames = []\n",
    "cope_files = []\n",
    "\n",
    "for SID in sids:\n",
    "    mask_filenames_glob = glob(proj_dir + '/roi_analysis/MRthesis/fb4c_2/mask/anat_masks/_subject_id_' \n",
    "                               + SID + '/_anatmask_xfm*/*') #get masks\n",
    "    mask_filenames_glob.sort() #sort masks\n",
    "    mask_filenames.append(mask_filenames_glob) #append masks        \n",
    "    subjcopes_glob = glob(proj_dir + '/scndlvl/ABCcorr_12192016/' + SID + '/fixedfx/cope_?Only*') #get copes\n",
    "    subjcopes_glob.sort() #sort copes\n",
    "    cope_files.append(subjcopes_glob) #append copes\n",
    "    if len(cope_files[-1]) == 0 or len(cope_files[-1]) != 3: #check to makes sure correct number of copes for each Ss\n",
    "        print(SID)"
   ]
  },
  {
   "cell_type": "markdown",
   "metadata": {},
   "source": [
    "## Cell to double-check the array indexing"
   ]
  },
  {
   "cell_type": "code",
   "execution_count": 3,
   "metadata": {
    "collapsed": false,
    "scrolled": true
   },
   "outputs": [
    {
     "name": "stdout",
     "output_type": "stream",
     "text": [
      "(0, 'lh-all_mPFC_warped')\n",
      "(1, 'lh-dmPFC_warped')\n",
      "(2, 'lh-hippocampus_warped')\n",
      "(3, 'lh-mPFC_fs-3reg_warped')\n",
      "(4, 'lh-mPFC_fs_warped')\n",
      "(5, 'lh-mPFC_lausanne_warped')\n",
      "(6, 'lh-motor_warped')\n",
      "(7, 'lh_caudate_anat_mask_warped')\n",
      "(8, 'rh_caudate_anat_mask_warped')\n",
      "(9, 'rh-all_mPFC_warped')\n",
      "(10, 'rh-dmPFC_warped')\n",
      "(11, 'rh-hippocampus_warped')\n",
      "(12, 'rh-mPFC_fs-3reg_warped')\n",
      "(13, 'rh-mPFC_fs_warped')\n",
      "(14, 'rh-mPFC_lausanne_warped')\n",
      "(15, 'rh-motor_warped')\n",
      "(16, 'lh-putamen_warped')\n",
      "(17, 'rh-putamen_warped')\n"
     ]
    }
   ],
   "source": [
    "#change first index of cope_files to indicate participant index in sids array\n",
    "for i, curr_mask in enumerate(mask_filenames[0]): #check masks\n",
    "    print(i, mask_filenames[0][i].split('/')[-1][:-7])"
   ]
  },
  {
   "cell_type": "code",
   "execution_count": 4,
   "metadata": {
    "collapsed": false
   },
   "outputs": [
    {
     "name": "stdout",
     "output_type": "stream",
     "text": [
      "(0, 'AOnly')\n",
      "(1, 'BOnly')\n",
      "(2, 'COnly')\n"
     ]
    }
   ],
   "source": [
    "for i, curr_cope in enumerate(cope_files[0]): #check copes\n",
    "    print(i, cope_files[0][i].split('/')[-1][5:-7]) "
   ]
  },
  {
   "cell_type": "markdown",
   "metadata": {},
   "source": [
    "### Use binarized mask to obtain activation in left & right hemisphere for each region of interest"
   ]
  },
  {
   "cell_type": "code",
   "execution_count": 2,
   "metadata": {
    "collapsed": false,
    "scrolled": true
   },
   "outputs": [],
   "source": [
    "bihp_fb4c = {'A':[], 'B':[], 'C':[]} #bihemispheric masked activation\n",
    "biput_fb4c = {'A':[], 'B':[], 'C':[]}\n",
    "\n",
    "for i in range(len(sids)):\n",
    "    lh_hp_img = nb.load(mask_filenames[i][2]) #HPC masks\n",
    "    rh_hp_img = nb.load(mask_filenames[i][11])\n",
    "    lh_put_img = nb.load(mask_filenames[i][16])\n",
    "    rh_put_img = nb.load(mask_filenames[i][17])\n",
    "\n",
    "    A_img = nb.load(cope_files[i][0]) #second level copes for each trial type\n",
    "    B_img = nb.load(cope_files[i][1])\n",
    "    C_img = nb.load(cope_files[i][2])\n",
    "  \n",
    "    for key in bihp_fb4c: #get the activation for each cope only within mask ROI\n",
    "        lh_data = eval('np.mean({0}_img.get_data()[lh_hp_img.get_data() > 0.])'.format(key))            \n",
    "        rh_data = eval('np.mean({0}_img.get_data()[rh_hp_img.get_data() > 0.])'.format(key))\n",
    "        bihp_fb4c['{0}'.format(key)].append((lh_data + rh_data)/2.) #combine hemispheres\n",
    "        \n",
    "    for key in biput_fb4c: \n",
    "        lh_data = eval('np.mean({0}_img.get_data()[lh_put_img.get_data() > 0.])'.format(key))            \n",
    "        rh_data = eval('np.mean({0}_img.get_data()[rh_put_img.get_data() > 0.])'.format(key))\n",
    "        biput_fb4c['{0}'.format(key)].append((lh_data + rh_data)/2.) \n",
    "\n",
    "bihp_fb4c_df = pd.DataFrame(bihp_fb4c) #convert to Pandas dataframe  \n",
    "biput_fb4c_df = pd.DataFrame(biput_fb4c)"
   ]
  },
  {
   "cell_type": "markdown",
   "metadata": {},
   "source": [
    "# Hippocampus"
   ]
  },
  {
   "cell_type": "code",
   "execution_count": 3,
   "metadata": {
    "collapsed": false
   },
   "outputs": [
    {
     "name": "stdout",
     "output_type": "stream",
     "text": [
      "(0.9854166507720947, 0.9839675426483154)\n",
      "(0.9645988941192627, 0.639184296131134)\n",
      "(0.9429625272750854, 0.2726026475429535)\n"
     ]
    }
   ],
   "source": [
    "print stats.shapiro(bihp_fb4c_df['A']) #check the normality of each distribution\n",
    "print stats.shapiro(bihp_fb4c_df['B'])\n",
    "print stats.shapiro(bihp_fb4c_df['C'])"
   ]
  },
  {
   "cell_type": "code",
   "execution_count": 4,
   "metadata": {
    "collapsed": false
   },
   "outputs": [
    {
     "data": {
      "text/html": [
       "<div>\n",
       "<style scoped>\n",
       "    .dataframe tbody tr th:only-of-type {\n",
       "        vertical-align: middle;\n",
       "    }\n",
       "\n",
       "    .dataframe tbody tr th {\n",
       "        vertical-align: top;\n",
       "    }\n",
       "\n",
       "    .dataframe thead th {\n",
       "        text-align: right;\n",
       "    }\n",
       "</style>\n",
       "<table border=\"1\" class=\"dataframe\">\n",
       "  <thead>\n",
       "    <tr style=\"text-align: right;\">\n",
       "      <th></th>\n",
       "      <th>A</th>\n",
       "      <th>B</th>\n",
       "      <th>C</th>\n",
       "    </tr>\n",
       "  </thead>\n",
       "  <tbody>\n",
       "    <tr>\n",
       "      <th>0</th>\n",
       "      <td>1.110188</td>\n",
       "      <td>-0.010274</td>\n",
       "      <td>-0.416041</td>\n",
       "    </tr>\n",
       "    <tr>\n",
       "      <th>1</th>\n",
       "      <td>0.976099</td>\n",
       "      <td>-0.110841</td>\n",
       "      <td>1.180274</td>\n",
       "    </tr>\n",
       "    <tr>\n",
       "      <th>2</th>\n",
       "      <td>2.576651</td>\n",
       "      <td>1.050123</td>\n",
       "      <td>1.392603</td>\n",
       "    </tr>\n",
       "    <tr>\n",
       "      <th>3</th>\n",
       "      <td>-0.256254</td>\n",
       "      <td>-0.440458</td>\n",
       "      <td>0.630711</td>\n",
       "    </tr>\n",
       "    <tr>\n",
       "      <th>4</th>\n",
       "      <td>0.151881</td>\n",
       "      <td>-0.443950</td>\n",
       "      <td>-0.269987</td>\n",
       "    </tr>\n",
       "    <tr>\n",
       "      <th>5</th>\n",
       "      <td>1.149044</td>\n",
       "      <td>-0.271587</td>\n",
       "      <td>1.457834</td>\n",
       "    </tr>\n",
       "    <tr>\n",
       "      <th>6</th>\n",
       "      <td>0.288217</td>\n",
       "      <td>-0.498626</td>\n",
       "      <td>-0.233375</td>\n",
       "    </tr>\n",
       "    <tr>\n",
       "      <th>7</th>\n",
       "      <td>-1.541625</td>\n",
       "      <td>-1.388618</td>\n",
       "      <td>-0.124787</td>\n",
       "    </tr>\n",
       "    <tr>\n",
       "      <th>8</th>\n",
       "      <td>0.422786</td>\n",
       "      <td>-2.376976</td>\n",
       "      <td>-0.489726</td>\n",
       "    </tr>\n",
       "    <tr>\n",
       "      <th>9</th>\n",
       "      <td>-0.703997</td>\n",
       "      <td>-0.585626</td>\n",
       "      <td>-0.143483</td>\n",
       "    </tr>\n",
       "    <tr>\n",
       "      <th>10</th>\n",
       "      <td>0.144502</td>\n",
       "      <td>0.575767</td>\n",
       "      <td>0.432396</td>\n",
       "    </tr>\n",
       "    <tr>\n",
       "      <th>11</th>\n",
       "      <td>1.311773</td>\n",
       "      <td>0.951364</td>\n",
       "      <td>1.135862</td>\n",
       "    </tr>\n",
       "    <tr>\n",
       "      <th>12</th>\n",
       "      <td>0.119880</td>\n",
       "      <td>1.150929</td>\n",
       "      <td>0.062412</td>\n",
       "    </tr>\n",
       "    <tr>\n",
       "      <th>13</th>\n",
       "      <td>1.851381</td>\n",
       "      <td>0.757642</td>\n",
       "      <td>0.850691</td>\n",
       "    </tr>\n",
       "    <tr>\n",
       "      <th>14</th>\n",
       "      <td>-0.013376</td>\n",
       "      <td>-1.068816</td>\n",
       "      <td>-0.679722</td>\n",
       "    </tr>\n",
       "    <tr>\n",
       "      <th>15</th>\n",
       "      <td>0.739701</td>\n",
       "      <td>-0.819179</td>\n",
       "      <td>-0.516603</td>\n",
       "    </tr>\n",
       "    <tr>\n",
       "      <th>16</th>\n",
       "      <td>0.644253</td>\n",
       "      <td>0.540331</td>\n",
       "      <td>0.417654</td>\n",
       "    </tr>\n",
       "    <tr>\n",
       "      <th>17</th>\n",
       "      <td>0.303876</td>\n",
       "      <td>0.247838</td>\n",
       "      <td>0.572313</td>\n",
       "    </tr>\n",
       "    <tr>\n",
       "      <th>18</th>\n",
       "      <td>1.384610</td>\n",
       "      <td>-0.250403</td>\n",
       "      <td>0.651981</td>\n",
       "    </tr>\n",
       "    <tr>\n",
       "      <th>19</th>\n",
       "      <td>-0.318242</td>\n",
       "      <td>-1.037737</td>\n",
       "      <td>0.073053</td>\n",
       "    </tr>\n",
       "  </tbody>\n",
       "</table>\n",
       "</div>"
      ],
      "text/plain": [
       "           A         B         C\n",
       "0   1.110188 -0.010274 -0.416041\n",
       "1   0.976099 -0.110841  1.180274\n",
       "2   2.576651  1.050123  1.392603\n",
       "3  -0.256254 -0.440458  0.630711\n",
       "4   0.151881 -0.443950 -0.269987\n",
       "5   1.149044 -0.271587  1.457834\n",
       "6   0.288217 -0.498626 -0.233375\n",
       "7  -1.541625 -1.388618 -0.124787\n",
       "8   0.422786 -2.376976 -0.489726\n",
       "9  -0.703997 -0.585626 -0.143483\n",
       "10  0.144502  0.575767  0.432396\n",
       "11  1.311773  0.951364  1.135862\n",
       "12  0.119880  1.150929  0.062412\n",
       "13  1.851381  0.757642  0.850691\n",
       "14 -0.013376 -1.068816 -0.679722\n",
       "15  0.739701 -0.819179 -0.516603\n",
       "16  0.644253  0.540331  0.417654\n",
       "17  0.303876  0.247838  0.572313\n",
       "18  1.384610 -0.250403  0.651981\n",
       "19 -0.318242 -1.037737  0.073053"
      ]
     },
     "execution_count": 4,
     "metadata": {},
     "output_type": "execute_result"
    }
   ],
   "source": [
    "bihp_fb4c_df #display dataframe to copy for SPSS"
   ]
  },
  {
   "cell_type": "code",
   "execution_count": 18,
   "metadata": {
    "collapsed": false,
    "scrolled": false
   },
   "outputs": [
    {
     "name": "stdout",
     "output_type": "stream",
     "text": [
      "Mean A:  0.517067262717\n",
      "STD A:  0.902138794066\n",
      "\n",
      "Mean B:  -0.201454875246\n",
      "STD B:  0.876922064942\n",
      "\n",
      "Mean C:  0.299202955142\n",
      "STD C:  0.652206537092\n",
      "\n",
      "A vs B Ttest_relResult(statistic=3.6571594321026337, pvalue=0.0016755862218927468)\n",
      "C vs B Ttest_relResult(statistic=3.0575498453884165, pvalue=0.0064793230278206975)\n",
      "A vs C Ttest_relResult(statistic=1.2653999117831514, pvalue=0.22102671027875559)\n"
     ]
    },
    {
     "data": {
      "image/png": "[encoded data removed]",
      "text/plain": [
       "<matplotlib.figure.Figure at 0x2ab6c6274e10>"
      ]
     },
     "metadata": {},
     "output_type": "display_data"
    }
   ],
   "source": [
    "sns.set_style(\"white\")\n",
    "for key in bihp_fb4c_df: #print the mean and std for each trial type\n",
    "    print \"Mean {0}: \".format(key), np.mean(bihp_fb4c_df['{0}'.format(key)])\n",
    "    print \"STD {0}: \".format(key), np.std(bihp_fb4c_df['{0}'.format(key)])\n",
    "    print \"\"\n",
    "print \"A vs B\", stats.ttest_rel(bihp_fb4c_df['A'], bihp_fb4c_df['B'])\n",
    "print \"C vs B\", stats.ttest_rel(bihp_fb4c_df['C'], bihp_fb4c_df['B'])\n",
    "print \"A vs C\", stats.ttest_rel(bihp_fb4c_df['A'], bihp_fb4c_df['C'])\n",
    "N = 3\n",
    "conditions = ['Fixed Left', 'Conditional', 'Fixed Right']\n",
    "hp_allsubjs = [bihp_fb4c_df['A'], bihp_fb4c_df['B'], bihp_fb4c_df['C']]\n",
    "ind = np.arange(N)\n",
    "fig, ax = plt.subplots(figsize = (8,5))\n",
    "ax0 = sns.boxplot(data = hp_allsubjs, color = \"#278fea\", width = 0.3) #display boxplot\n",
    "ax2 = sns.swarmplot(data = hp_allsubjs, color='.25') #display swarmplot\n",
    "ax.set_xticks(ind)\n",
    "ax.set_xticklabels(conditions)\n",
    "ax.set_ylabel(\"Activation\")\n",
    "ax.set_title(\"Hippocampus\")\n",
    "plt.savefig(\"/home/arenf001/ABC.png\", dpi = 1080)\n",
    "plt.show()"
   ]
  },
  {
   "cell_type": "markdown",
   "metadata": {
    "collapsed": true
   },
   "source": [
    "# Putamen"
   ]
  },
  {
   "cell_type": "code",
   "execution_count": 16,
   "metadata": {
    "collapsed": false
   },
   "outputs": [
    {
     "name": "stdout",
     "output_type": "stream",
     "text": [
      "(0.966251015663147, 0.6745803952217102)\n",
      "(0.9416841864585876, 0.25796568393707275)\n",
      "(0.8632468581199646, 0.008959188126027584) **\n"
     ]
    }
   ],
   "source": [
    "print stats.shapiro(biput_fb4c_df['A']) #check the normality of each distribution\n",
    "print stats.shapiro(biput_fb4c_df['B'])\n",
    "print stats.shapiro(biput_fb4c_df['C']), \"**\""
   ]
  },
  {
   "cell_type": "code",
   "execution_count": 7,
   "metadata": {
    "collapsed": false
   },
   "outputs": [
    {
     "data": {
      "text/html": [
       "<div>\n",
       "<style scoped>\n",
       "    .dataframe tbody tr th:only-of-type {\n",
       "        vertical-align: middle;\n",
       "    }\n",
       "\n",
       "    .dataframe tbody tr th {\n",
       "        vertical-align: top;\n",
       "    }\n",
       "\n",
       "    .dataframe thead th {\n",
       "        text-align: right;\n",
       "    }\n",
       "</style>\n",
       "<table border=\"1\" class=\"dataframe\">\n",
       "  <thead>\n",
       "    <tr style=\"text-align: right;\">\n",
       "      <th></th>\n",
       "      <th>A</th>\n",
       "      <th>B</th>\n",
       "      <th>C</th>\n",
       "    </tr>\n",
       "  </thead>\n",
       "  <tbody>\n",
       "    <tr>\n",
       "      <th>0</th>\n",
       "      <td>0.825094</td>\n",
       "      <td>1.645537</td>\n",
       "      <td>-0.014423</td>\n",
       "    </tr>\n",
       "    <tr>\n",
       "      <th>1</th>\n",
       "      <td>0.757551</td>\n",
       "      <td>1.042477</td>\n",
       "      <td>2.058905</td>\n",
       "    </tr>\n",
       "    <tr>\n",
       "      <th>2</th>\n",
       "      <td>1.638080</td>\n",
       "      <td>0.205337</td>\n",
       "      <td>1.764949</td>\n",
       "    </tr>\n",
       "    <tr>\n",
       "      <th>3</th>\n",
       "      <td>0.631491</td>\n",
       "      <td>0.998729</td>\n",
       "      <td>1.616914</td>\n",
       "    </tr>\n",
       "    <tr>\n",
       "      <th>4</th>\n",
       "      <td>-0.130375</td>\n",
       "      <td>-0.088626</td>\n",
       "      <td>0.033756</td>\n",
       "    </tr>\n",
       "    <tr>\n",
       "      <th>5</th>\n",
       "      <td>0.946619</td>\n",
       "      <td>1.057267</td>\n",
       "      <td>1.460939</td>\n",
       "    </tr>\n",
       "    <tr>\n",
       "      <th>6</th>\n",
       "      <td>-0.105931</td>\n",
       "      <td>0.214621</td>\n",
       "      <td>0.820263</td>\n",
       "    </tr>\n",
       "    <tr>\n",
       "      <th>7</th>\n",
       "      <td>-0.088790</td>\n",
       "      <td>-0.854257</td>\n",
       "      <td>-0.134887</td>\n",
       "    </tr>\n",
       "    <tr>\n",
       "      <th>8</th>\n",
       "      <td>0.168006</td>\n",
       "      <td>-0.918927</td>\n",
       "      <td>0.165447</td>\n",
       "    </tr>\n",
       "    <tr>\n",
       "      <th>9</th>\n",
       "      <td>-1.279840</td>\n",
       "      <td>-0.408844</td>\n",
       "      <td>0.338589</td>\n",
       "    </tr>\n",
       "    <tr>\n",
       "      <th>10</th>\n",
       "      <td>-0.874170</td>\n",
       "      <td>1.973386</td>\n",
       "      <td>-0.151140</td>\n",
       "    </tr>\n",
       "    <tr>\n",
       "      <th>11</th>\n",
       "      <td>1.768652</td>\n",
       "      <td>1.207319</td>\n",
       "      <td>1.733363</td>\n",
       "    </tr>\n",
       "    <tr>\n",
       "      <th>12</th>\n",
       "      <td>1.753997</td>\n",
       "      <td>1.996959</td>\n",
       "      <td>0.847872</td>\n",
       "    </tr>\n",
       "    <tr>\n",
       "      <th>13</th>\n",
       "      <td>0.787164</td>\n",
       "      <td>0.795687</td>\n",
       "      <td>1.290240</td>\n",
       "    </tr>\n",
       "    <tr>\n",
       "      <th>14</th>\n",
       "      <td>1.262547</td>\n",
       "      <td>1.124693</td>\n",
       "      <td>1.399515</td>\n",
       "    </tr>\n",
       "    <tr>\n",
       "      <th>15</th>\n",
       "      <td>0.603601</td>\n",
       "      <td>-0.277929</td>\n",
       "      <td>0.246562</td>\n",
       "    </tr>\n",
       "    <tr>\n",
       "      <th>16</th>\n",
       "      <td>1.221745</td>\n",
       "      <td>1.185788</td>\n",
       "      <td>0.024072</td>\n",
       "    </tr>\n",
       "    <tr>\n",
       "      <th>17</th>\n",
       "      <td>0.265945</td>\n",
       "      <td>1.105275</td>\n",
       "      <td>0.102372</td>\n",
       "    </tr>\n",
       "    <tr>\n",
       "      <th>18</th>\n",
       "      <td>0.415987</td>\n",
       "      <td>0.167274</td>\n",
       "      <td>0.012958</td>\n",
       "    </tr>\n",
       "    <tr>\n",
       "      <th>19</th>\n",
       "      <td>-0.179722</td>\n",
       "      <td>-1.128659</td>\n",
       "      <td>0.244641</td>\n",
       "    </tr>\n",
       "  </tbody>\n",
       "</table>\n",
       "</div>"
      ],
      "text/plain": [
       "           A         B         C\n",
       "0   0.825094  1.645537 -0.014423\n",
       "1   0.757551  1.042477  2.058905\n",
       "2   1.638080  0.205337  1.764949\n",
       "3   0.631491  0.998729  1.616914\n",
       "4  -0.130375 -0.088626  0.033756\n",
       "5   0.946619  1.057267  1.460939\n",
       "6  -0.105931  0.214621  0.820263\n",
       "7  -0.088790 -0.854257 -0.134887\n",
       "8   0.168006 -0.918927  0.165447\n",
       "9  -1.279840 -0.408844  0.338589\n",
       "10 -0.874170  1.973386 -0.151140\n",
       "11  1.768652  1.207319  1.733363\n",
       "12  1.753997  1.996959  0.847872\n",
       "13  0.787164  0.795687  1.290240\n",
       "14  1.262547  1.124693  1.399515\n",
       "15  0.603601 -0.277929  0.246562\n",
       "16  1.221745  1.185788  0.024072\n",
       "17  0.265945  1.105275  0.102372\n",
       "18  0.415987  0.167274  0.012958\n",
       "19 -0.179722 -1.128659  0.244641"
      ]
     },
     "execution_count": 7,
     "metadata": {},
     "output_type": "execute_result"
    }
   ],
   "source": [
    "biput_fb4c_df"
   ]
  },
  {
   "cell_type": "code",
   "execution_count": 14,
   "metadata": {
    "collapsed": false
   },
   "outputs": [
    {
     "name": "stdout",
     "output_type": "stream",
     "text": [
      "Mean A:  0.519382552803\n",
      "STD A:  0.801733151997\n",
      "\n",
      "Mean B:  0.552155308053\n",
      "STD B:  0.919084394111\n",
      "\n",
      "Mean C:  0.693045272119\n",
      "STD C:  0.735953328367\n",
      "\n",
      "A vs B Ttest_relResult(statistic=-0.15722769927348923, pvalue=0.87672419796737566)\n",
      "C vs B Ttest_relResult(statistic=0.61452495320741152, pvalue=0.54615785860720689)\n",
      "A vs C Ttest_relResult(statistic=-1.0651564901199282, pvalue=0.30015468793515571)\n"
     ]
    },
    {
     "data": {
      "image/png": "[encoded data removed]",
      "text/plain": [
       "<matplotlib.figure.Figure at 0x2ab6c61c7610>"
      ]
     },
     "metadata": {},
     "output_type": "display_data"
    }
   ],
   "source": [
    "sns.set_style(\"ticks\")\n",
    "for key in biput_fb4c_df: #print the mean and std for each trial type\n",
    "    print \"Mean {0}: \".format(key), np.mean(biput_fb4c_df['{0}'.format(key)])\n",
    "    print \"STD {0}: \".format(key), np.std(biput_fb4c_df['{0}'.format(key)])\n",
    "    print \"\"\n",
    "print \"A vs B\", stats.ttest_rel(biput_fb4c_df['A'], biput_fb4c_df['B'])\n",
    "print \"C vs B\", stats.ttest_rel(biput_fb4c_df['C'], biput_fb4c_df['B'])\n",
    "print \"A vs C\", stats.ttest_rel(biput_fb4c_df['A'], biput_fb4c_df['C'])\n",
    "N = 3\n",
    "conditions = ['Fixed Left', 'Conditional', 'Fixed Right']\n",
    "put_allsubjs = [biput_fb4c_df['A'], biput_fb4c_df['B'], biput_fb4c_df['C']]\n",
    "ind = np.arange(N)\n",
    "fig, ax = plt.subplots(figsize = (8,5))\n",
    "ax0 = sns.boxplot(data = put_allsubjs, color = \"#c34aef\", width = 0.3) #display boxplot\n",
    "ax2 = sns.swarmplot(data = put_allsubjs, color='.25') #display swarmplot\n",
    "ax.set_xticks(ind)\n",
    "ax.set_xticklabels(conditions)\n",
    "ax.set_ylabel(\"Activation\")\n",
    "ax.set_title(\"Putamen\")\n",
    "ax.set_ylim(-3, 3)\n",
    "plt.savefig(\"/home/arenf001/ABC2.png\", dpi = 1080)\n",
    "plt.show()"
   ]
  },
  {
   "cell_type": "code",
   "execution_count": null,
   "metadata": {
    "collapsed": true
   },
   "outputs": [],
   "source": []
  }
 ],
 "metadata": {
  "anaconda-cloud": {},
  "kernelspec": {
   "display_name": "Python 2",
   "language": "python",
   "name": "python2"
  },
  "language_info": {
   "codemirror_mode": {
    "name": "ipython",
    "version": 2
   },
   "file_extension": ".py",
   "mimetype": "text/x-python",
   "name": "python",
   "nbconvert_exporter": "python",
   "pygments_lexer": "ipython2",
   "version": "2.7.12"
  }
 },
 "nbformat": 4,
 "nbformat_minor": 2
}
