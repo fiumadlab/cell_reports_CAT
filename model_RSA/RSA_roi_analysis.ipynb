{
 "cells": [
  {
   "cell_type": "markdown",
   "metadata": {},
   "source": [
    "# Model RSA \n",
    "### Comparing HPC activation between Fixed --> Cond w/o BL and BL between Fixed and Conditionals\n",
    "### Combines A & C trials into single regressor\n",
    "### Accounts for last three noisy volumes in Lvl 1 analysis (FSL ROI -- ExtractROI)"
   ]
  },
  {
   "cell_type": "markdown",
   "metadata": {},
   "source": [
    "## Compares activation for regions of interest using binarized masks:\n",
    "### Hippocampus (FS labels: hippocampus [17, 53])"
   ]
  },
  {
   "cell_type": "markdown",
   "metadata": {},
   "source": [
    "## Import all mask and cope files"
   ]
  },
  {
   "cell_type": "code",
   "execution_count": 7,
   "metadata": {
    "collapsed": false,
    "scrolled": true
   },
   "outputs": [],
   "source": [
    "import os\n",
    "from os.path import join\n",
    "from glob import glob\n",
    "import nibabel as nb\n",
    "import pandas as pd\n",
    "import numpy as np\n",
    "from scipy import stats\n",
    "from scipy.stats import pearsonr\n",
    "%matplotlib inline\n",
    "import seaborn as sns\n",
    "import matplotlib.pyplot as plt\n",
    "sns.set_style(\"white\")\n",
    "sns.set_palette('muted')\n",
    "\n",
    "subs = ['WMAZE_001', 'WMAZE_002', 'WMAZE_004', 'WMAZE_005', 'WMAZE_006', \n",
    "        'WMAZE_007', 'WMAZE_008', 'WMAZE_009', 'WMAZE_010', 'WMAZE_012', \n",
    "        'WMAZE_017', 'WMAZE_018', 'WMAZE_019', 'WMAZE_020', 'WMAZE_021',  \n",
    "        'WMAZE_022', 'WMAZE_023', 'WMAZE_024', 'WMAZE_026', 'WMAZE_027']\n",
    "proj_dir = '/home/data/madlab/data/mri/wmaze' \n",
    "mask_files = []\n",
    "cope_files = []\n",
    "\n",
    "for sub in subs:\n",
    "    #import masks\n",
    "    masks_glob = glob(proj_dir +'/roi_analysis/MRthesis/fb4c_2/mask/anat_masks/_subject_id_'+ sub +'/_*/*') \n",
    "    mask_files.append(sorted(masks_glob)) #sortand append masks\n",
    "    #import lvl2 copes\n",
    "    copes_glob = glob(proj_dir + '/scndlvl/model_RSA/' + sub + '/fixedfx/cope_*')  \n",
    "    cope_files.append(sorted(copes_glob))    \n",
    "    if len(cope_files[-1]) == 0: #test to make sure copes exist\n",
    "        print(sub)"
   ]
  },
  {
   "cell_type": "markdown",
   "metadata": {},
   "source": [
    "## Cell to double-check the array indexing"
   ]
  },
  {
   "cell_type": "code",
   "execution_count": null,
   "metadata": {
    "collapsed": false,
    "scrolled": true
   },
   "outputs": [],
   "source": [
    "#change first index of cope_files to indicate participant index in sids array\n",
    "for i, curr_mask in enumerate(mask_files[0]):\n",
    "    print(i, mask_files[0][i].split('/')[-1][:-7])"
   ]
  },
  {
   "cell_type": "code",
   "execution_count": null,
   "metadata": {
    "collapsed": false
   },
   "outputs": [],
   "source": [
    "for i, curr_cope in enumerate(cope_files[0]):\n",
    "    print(i, cope_files[0][i].split('/')[-1][5:-7]) "
   ]
  },
  {
   "cell_type": "markdown",
   "metadata": {},
   "source": [
    "## Use binarized mask to obtain activation in ROIs"
   ]
  },
  {
   "cell_type": "code",
   "execution_count": 3,
   "metadata": {
    "collapsed": false,
    "scrolled": true
   },
   "outputs": [],
   "source": [
    "all_data = {'hp_FC_corr':[], 'hp_FC_incorr':[], 'hp_FBLC':[], \n",
    "            'mpfc_FC_corr':[], 'mpfc_FC_incorr':[], 'mpfc_FBLC':[]}\n",
    "   \n",
    "for i in range(len(subs)): #for each subject, load regional mask \n",
    "    lh_hp_img = nb.load(mask_files[i][2])\n",
    "    rh_hp_img = nb.load(mask_files[i][11])\n",
    "    mpfc_img = nb.load(mask_files[i][18])\n",
    "    \n",
    "    FC_corr_img = nb.load(cope_files[i][1]) #load whole brain 2nd level copes\n",
    "    FC_incorr_img = nb.load(cope_files[i][2])\n",
    "    FBLC_img = nb.load(cope_files[i][4])\n",
    "    \n",
    "    for t in ['FC_corr', 'FC_incorr', 'FBLC']: #for each cope type\n",
    "        #isolates HP activation within each cope\n",
    "        lh_data = eval('{0}_img.get_data()[lh_hp_img.get_data() > 0.]'.format(t)) \n",
    "        rh_data = eval('{0}_img.get_data()[rh_hp_img.get_data() > 0.]'.format(t))\n",
    "        bihemi_data = np.concatenate((lh_data, rh_data)) #concatenate both hemispheres into one mask\n",
    "        all_data['hp_{0}'.format(t)].append(bihemi_data) #append to appropriate dictionary key\n",
    "        \n",
    "    for t in ['FC_corr', 'FC_incorr', 'FBLC']: \n",
    "        data = eval('{0}_img.get_data()[mpfc_img.get_data() > 0.]'.format(t))       \n",
    "        all_data['mpfc_{0}'.format(t)].append(data)  \n",
    "                        \n",
    "all_data_df = pd.DataFrame(all_data) #convert dictionary into Pandas dataframe"
   ]
  },
  {
   "cell_type": "code",
   "execution_count": null,
   "metadata": {
    "collapsed": false
   },
   "outputs": [],
   "source": [
    "all_data_df"
   ]
  },
  {
   "cell_type": "markdown",
   "metadata": {},
   "source": [
    "## Obtain regional activation correlations between fixed before correct conditional and BL interceding fixed before all conditionals"
   ]
  },
  {
   "cell_type": "code",
   "execution_count": 5,
   "metadata": {
    "collapsed": false
   },
   "outputs": [],
   "source": [
    "sub_corrs = {'hp':[], 'mpfc':[]}\n",
    "\n",
    "for i, sub in enumerate(subs):\n",
    "    for r in ['hp', 'mpfc']:\n",
    "        x1 = eval('stats.pearsonr(all_data_df[\"{0}_FC_corr\"][{1}],all_data_df[\"{0}_FBLC\"][{1}])[0]'.format(r,i))\n",
    "        x = 1 - x1\n",
    "        eval('sub_corrs[\"{0}\"].append(x)'.format(r))\n",
    "            \n",
    "sub_corrs_df = pd.DataFrame(sub_corrs)"
   ]
  },
  {
   "cell_type": "code",
   "execution_count": 24,
   "metadata": {
    "collapsed": false
   },
   "outputs": [
    {
     "data": {
      "text/html": [
       "<div>\n",
       "<style scoped>\n",
       "    .dataframe tbody tr th:only-of-type {\n",
       "        vertical-align: middle;\n",
       "    }\n",
       "\n",
       "    .dataframe tbody tr th {\n",
       "        vertical-align: top;\n",
       "    }\n",
       "\n",
       "    .dataframe thead th {\n",
       "        text-align: right;\n",
       "    }\n",
       "</style>\n",
       "<table border=\"1\" class=\"dataframe\">\n",
       "  <thead>\n",
       "    <tr style=\"text-align: right;\">\n",
       "      <th></th>\n",
       "      <th>hp</th>\n",
       "      <th>mpfc</th>\n",
       "      <th>FC_performance</th>\n",
       "    </tr>\n",
       "  </thead>\n",
       "  <tbody>\n",
       "    <tr>\n",
       "      <th>0</th>\n",
       "      <td>0.857684</td>\n",
       "      <td>0.677367</td>\n",
       "      <td>0.856287</td>\n",
       "    </tr>\n",
       "    <tr>\n",
       "      <th>1</th>\n",
       "      <td>0.094255</td>\n",
       "      <td>0.111486</td>\n",
       "      <td>0.949153</td>\n",
       "    </tr>\n",
       "    <tr>\n",
       "      <th>2</th>\n",
       "      <td>0.078615</td>\n",
       "      <td>0.053711</td>\n",
       "      <td>0.835294</td>\n",
       "    </tr>\n",
       "    <tr>\n",
       "      <th>3</th>\n",
       "      <td>0.224594</td>\n",
       "      <td>0.150763</td>\n",
       "      <td>0.813187</td>\n",
       "    </tr>\n",
       "    <tr>\n",
       "      <th>4</th>\n",
       "      <td>0.138270</td>\n",
       "      <td>0.103447</td>\n",
       "      <td>0.800000</td>\n",
       "    </tr>\n",
       "    <tr>\n",
       "      <th>5</th>\n",
       "      <td>0.097640</td>\n",
       "      <td>0.045681</td>\n",
       "      <td>0.750000</td>\n",
       "    </tr>\n",
       "    <tr>\n",
       "      <th>6</th>\n",
       "      <td>0.129521</td>\n",
       "      <td>0.098267</td>\n",
       "      <td>0.818713</td>\n",
       "    </tr>\n",
       "    <tr>\n",
       "      <th>7</th>\n",
       "      <td>0.214618</td>\n",
       "      <td>0.121661</td>\n",
       "      <td>0.795322</td>\n",
       "    </tr>\n",
       "    <tr>\n",
       "      <th>8</th>\n",
       "      <td>0.233771</td>\n",
       "      <td>0.053731</td>\n",
       "      <td>0.582822</td>\n",
       "    </tr>\n",
       "    <tr>\n",
       "      <th>9</th>\n",
       "      <td>0.199579</td>\n",
       "      <td>0.148415</td>\n",
       "      <td>0.765060</td>\n",
       "    </tr>\n",
       "    <tr>\n",
       "      <th>10</th>\n",
       "      <td>0.138461</td>\n",
       "      <td>0.054388</td>\n",
       "      <td>0.763636</td>\n",
       "    </tr>\n",
       "    <tr>\n",
       "      <th>11</th>\n",
       "      <td>0.151344</td>\n",
       "      <td>0.054496</td>\n",
       "      <td>0.866279</td>\n",
       "    </tr>\n",
       "    <tr>\n",
       "      <th>12</th>\n",
       "      <td>0.159533</td>\n",
       "      <td>0.041478</td>\n",
       "      <td>0.852941</td>\n",
       "    </tr>\n",
       "    <tr>\n",
       "      <th>13</th>\n",
       "      <td>0.251747</td>\n",
       "      <td>0.164520</td>\n",
       "      <td>0.905028</td>\n",
       "    </tr>\n",
       "    <tr>\n",
       "      <th>14</th>\n",
       "      <td>0.171925</td>\n",
       "      <td>0.070831</td>\n",
       "      <td>0.800000</td>\n",
       "    </tr>\n",
       "    <tr>\n",
       "      <th>15</th>\n",
       "      <td>0.180575</td>\n",
       "      <td>0.087920</td>\n",
       "      <td>0.664804</td>\n",
       "    </tr>\n",
       "    <tr>\n",
       "      <th>16</th>\n",
       "      <td>0.214408</td>\n",
       "      <td>0.088595</td>\n",
       "      <td>0.942197</td>\n",
       "    </tr>\n",
       "    <tr>\n",
       "      <th>17</th>\n",
       "      <td>0.274244</td>\n",
       "      <td>0.114765</td>\n",
       "      <td>0.887006</td>\n",
       "    </tr>\n",
       "    <tr>\n",
       "      <th>18</th>\n",
       "      <td>0.155462</td>\n",
       "      <td>0.180013</td>\n",
       "      <td>0.821229</td>\n",
       "    </tr>\n",
       "    <tr>\n",
       "      <th>19</th>\n",
       "      <td>0.094746</td>\n",
       "      <td>0.176057</td>\n",
       "      <td>0.806818</td>\n",
       "    </tr>\n",
       "  </tbody>\n",
       "</table>\n",
       "</div>"
      ],
      "text/plain": [
       "          hp      mpfc  FC_performance\n",
       "0   0.857684  0.677367        0.856287\n",
       "1   0.094255  0.111486        0.949153\n",
       "2   0.078615  0.053711        0.835294\n",
       "3   0.224594  0.150763        0.813187\n",
       "4   0.138270  0.103447        0.800000\n",
       "5   0.097640  0.045681        0.750000\n",
       "6   0.129521  0.098267        0.818713\n",
       "7   0.214618  0.121661        0.795322\n",
       "8   0.233771  0.053731        0.582822\n",
       "9   0.199579  0.148415        0.765060\n",
       "10  0.138461  0.054388        0.763636\n",
       "11  0.151344  0.054496        0.866279\n",
       "12  0.159533  0.041478        0.852941\n",
       "13  0.251747  0.164520        0.905028\n",
       "14  0.171925  0.070831        0.800000\n",
       "15  0.180575  0.087920        0.664804\n",
       "16  0.214408  0.088595        0.942197\n",
       "17  0.274244  0.114765        0.887006\n",
       "18  0.155462  0.180013        0.821229\n",
       "19  0.094746  0.176057        0.806818"
      ]
     },
     "execution_count": 24,
     "metadata": {},
     "output_type": "execute_result"
    }
   ],
   "source": [
    "sub_corrs_df"
   ]
  },
  {
   "cell_type": "markdown",
   "metadata": {},
   "source": [
    "## Calculate performance for fixed before conditional trials"
   ]
  },
  {
   "cell_type": "code",
   "execution_count": 23,
   "metadata": {
    "collapsed": false
   },
   "outputs": [
    {
     "name": "stdout",
     "output_type": "stream",
     "text": [
      "           FBLC  FC_corr  FC_incorr\n",
      "WMAZE_001    46      143         24\n",
      "WMAZE_002    42      168          9\n",
      "WMAZE_004    48      142         28\n",
      "WMAZE_005    34      148         34\n",
      "WMAZE_006    45      140         35\n",
      "WMAZE_007    52      126         42\n",
      "WMAZE_008    49      140         31\n",
      "WMAZE_009    39      136         35\n",
      "WMAZE_010    53       95         68\n",
      "WMAZE_012    45      127         39\n",
      "WMAZE_017    50      126         39\n",
      "WMAZE_018    49      149         23\n",
      "WMAZE_019    42      145         25\n",
      "WMAZE_020    36      162         17\n",
      "WMAZE_021    47      140         35\n",
      "WMAZE_022    33      119         60\n",
      "WMAZE_023    46      163         10\n",
      "WMAZE_024    42      157         20\n",
      "WMAZE_026    40      147         32\n",
      "WMAZE_027    47      142         34\n"
     ]
    }
   ],
   "source": [
    "stim_sets = ['set1', 'set2', 'set3']\n",
    "\n",
    "count_table = {}\n",
    "ctstd_table = {}\n",
    "rt_table = {}\n",
    "rtstd_table = {}\n",
    "\n",
    "for sub in subs:\n",
    "    ct_dict = {}\n",
    "    rt_dict = {}\n",
    "    sub_dir = '/home/data/madlab/data/mri/wmaze/scanner_behav/{0}/'.format(sub)\n",
    "    dir_file = glob(join(sub_dir, '{0}_wmazebl_2015*.txt'.format(sub)))    \n",
    "    dir_file.sort() \n",
    "\n",
    "    \n",
    "    for i, curr_set in enumerate(stim_sets):\n",
    "        for curr_run in ['1','2']:\n",
    "            if curr_run == '1':\n",
    "                run = pd.read_table(dir_file[i*2]) #create dataframe for text files to extract EVS\n",
    "                run = run[:-3] #removal of the last 3 trials to avoid scanner artifact\n",
    "            else:\n",
    "                run = pd.read_table(dir_file[i*2+1])\n",
    "                run = run[:-3]\n",
    "        \n",
    "            trialtype = run['TrialType'].values #convert dataframes into numpy arrays\n",
    "            correct = run['Correct'].values\n",
    "            resp = run['Resp'].values\n",
    "            onsets = run['StimOnset'].values\n",
    "        \n",
    "            fixed_before = trialtype[:-1]\n",
    "            fixed_before = np.insert(fixed_before, 0, -1)\n",
    "            \n",
    "            trial_shift1 = trialtype[1:] \n",
    "            trial_shift1 = np.append(trial_shift1, -1)\n",
    "            trial_shift2 = trial_shift1[1:] \n",
    "            trial_shift2 = np.append(trial_shift2, -1)\n",
    "        \n",
    "            correct_shift1 = correct[1:] \n",
    "            correct_shift1 = np.append(correct_shift1, -1)\n",
    "            correct_shift2 = correct_shift1[1:] \n",
    "            correct_shift2 = np.append(correct_shift2, -1)\n",
    "       \n",
    "            FC_corr = np.where((trialtype!='BL')&(trial_shift1=='B')&(correct_shift1==1))[0] \n",
    "            FC_incorr = np.where((trialtype!='BL')&(trial_shift1=='B')&(correct_shift1==0))[0]         \n",
    "            FBLC = np.where(((fixed_before=='A')|(fixed_before =='C'))&(trialtype=='BL')\n",
    "                            &(trial_shift1=='B'))[0] \n",
    "         \n",
    "            for curr_type in ['FC_corr', 'FC_incorr', 'FBLC']:\n",
    "                curr_name = '{0}'.format(curr_type)\n",
    "                if not curr_name in ct_dict:\n",
    "                    ct_dict[curr_name] = []\n",
    "                ct_dict[curr_name].append(len(eval(curr_name)))                          \n",
    "    \n",
    "    for key in ct_dict:\n",
    "        ct_dict[key] = np.sum(ct_dict[key])\n",
    "        if not key in count_table:\n",
    "            count_table[key] = []\n",
    "        count_table[key].append(ct_dict[key])\n",
    "\n",
    "BL_df = pd.DataFrame(count_table, index = subs)\n",
    "BL_df['FC_performance'] = BL_df['FC_corr']/(BL_df['FC_corr']+BL_df['FC_incorr'])"
   ]
  },
  {
   "cell_type": "code",
   "execution_count": 9,
   "metadata": {
    "collapsed": false
   },
   "outputs": [],
   "source": [
    "sub_corrs_df['FC_performance'] = list(BL_df['FC_performance'])"
   ]
  },
  {
   "cell_type": "code",
   "execution_count": null,
   "metadata": {
    "collapsed": false
   },
   "outputs": [],
   "source": [
    "sub_corrs_df"
   ]
  },
  {
   "cell_type": "markdown",
   "metadata": {},
   "source": [
    "## Hippocampus"
   ]
  },
  {
   "cell_type": "code",
   "execution_count": 21,
   "metadata": {
    "collapsed": false
   },
   "outputs": [
    {
     "name": "stdout",
     "output_type": "stream",
     "text": [
      "HPC (0.092066934536904635, 0.69946255719525441)\n"
     ]
    },
    {
     "data": {
      "image/png": "[encoded data removed]",
      "text/plain": [
       "<matplotlib.figure.Figure at 0x2affc0030dd0>"
      ]
     },
     "metadata": {},
     "output_type": "display_data"
    }
   ],
   "source": [
    "x = sub_corrs_df['FC_performance']\n",
    "y = sub_corrs_df['hp']\n",
    "\n",
    "print 'HPC', pearsonr(x,y)\n",
    "fig, ax = plt.subplots()\n",
    "ax = sns.regplot(x = 'FC_performance', y = 'hp', color = '#0d53e0', data= sub_corrs_df)\n",
    "ax.set_xlabel('Conditional Performance')\n",
    "ax.set_ylabel('HPC Correlations')\n",
    "ax.set_title('Hippocampus')\n",
    "ax.set_xlim(0.55, 1)\n",
    "ax.set_ylim(-0.2, 1)\n",
    "plt.show()"
   ]
  },
  {
   "cell_type": "markdown",
   "metadata": {},
   "source": [
    "## mPFC"
   ]
  },
  {
   "cell_type": "code",
   "execution_count": 25,
   "metadata": {
    "collapsed": false
   },
   "outputs": [
    {
     "name": "stdout",
     "output_type": "stream",
     "text": [
      "HPC (0.18752769298978267, 0.42852920042331)\n"
     ]
    },
    {
     "data": {
      "image/png": "[encoded data removed]",
      "text/plain": [
       "<matplotlib.figure.Figure at 0x2affc003e750>"
      ]
     },
     "metadata": {},
     "output_type": "display_data"
    }
   ],
   "source": [
    "x = sub_corrs_df['FC_performance']\n",
    "y = sub_corrs_df['mpfc']\n",
    "\n",
    "print 'HPC', pearsonr(x,y)\n",
    "fig, ax = plt.subplots()\n",
    "ax = sns.regplot(x = 'FC_performance', y = 'mpfc', color = '#ff9400', data = sub_corrs_df)\n",
    "ax.set_xlabel('Conditional Performance')\n",
    "ax.set_ylabel('mPFC Correlations')\n",
    "ax.set_title('Medial Prefrontal Cortex')\n",
    "ax.set_xlim(0.55, 1)\n",
    "ax.set_ylim(-0.2, 1)\n",
    "plt.show()"
   ]
  },
  {
   "cell_type": "raw",
   "metadata": {
    "collapsed": false
   },
   "source": [
    "import matplotlib.pyplot as plt\n",
    "import numpy as np\n",
    "\n",
    "a = np.random.random((16, 16))\n",
    "sns.heatmap(a, cmap='OrRd')\n",
    "plt.axis('off')\n",
    "plt.savefig('/home/arenf001/sampleheatplot.tif')"
   ]
  },
  {
   "cell_type": "code",
   "execution_count": null,
   "metadata": {
    "collapsed": true
   },
   "outputs": [],
   "source": []
  }
 ],
 "metadata": {
  "anaconda-cloud": {},
  "kernelspec": {
   "display_name": "Python 2",
   "language": "python",
   "name": "python2"
  },
  "language_info": {
   "codemirror_mode": {
    "name": "ipython",
    "version": 2
   },
   "file_extension": ".py",
   "mimetype": "text/x-python",
   "name": "python",
   "nbconvert_exporter": "python",
   "pygments_lexer": "ipython2",
   "version": "2.7.12"
  }
 },
 "nbformat": 4,
 "nbformat_minor": 2
}
