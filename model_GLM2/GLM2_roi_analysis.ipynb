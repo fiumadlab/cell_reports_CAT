{
 "cells": [
  {
   "cell_type": "markdown",
   "metadata": {},
   "source": [
    "# Model GLM2 - ROI Analysis\n",
    "### Comprehensive -- compares regional activation on fixed and conditional (correct vs. incorrect)"
   ]
  },
  {
   "cell_type": "code",
   "execution_count": null,
   "metadata": {
    "collapsed": true,
    "scrolled": true
   },
   "outputs": [],
   "source": [
    "from os.path import join\n",
    "from glob import glob\n",
    "from scipy import stats\n",
    "from scipy.stats import pearsonr\n",
    "from pylab import *\n",
    "from math import sqrt\n",
    "import nibabel as nb\n",
    "import pandas as pd\n",
    "import numpy as np\n",
    "import seaborn as sns\n",
    "import matplotlib.pyplot as plt\n",
    "%matplotlib inline\n",
    "sns.set_style(\"white\")\n",
    "sns.set_palette('muted')\n",
    "\n",
    "subs = ['WMAZE_001', 'WMAZE_002', 'WMAZE_004', 'WMAZE_005', 'WMAZE_006', \n",
    "        'WMAZE_007', 'WMAZE_008', 'WMAZE_009', 'WMAZE_010', 'WMAZE_012', \n",
    "        'WMAZE_017', 'WMAZE_018', 'WMAZE_019', 'WMAZE_020', 'WMAZE_021',  \n",
    "        'WMAZE_022', 'WMAZE_023', 'WMAZE_024', 'WMAZE_026', 'WMAZE_027']\n",
    "proj_dir = '/home/data/madlab/data/mri/wmaze' \n",
    "mask_filenames = []\n",
    "cope_files = []\n",
    "for sub in subs:\n",
    "    mask_filenames_glob = glob(proj_dir+ '/roi_analysis/anat_masks/_subject_id_'+ sub +'/_anatmask_xfm*/*')\n",
    "    mask_filenames.append(sorted(mask_filenames_glob))\n",
    "    subjcopes_glob = glob(proj_dir+ '/scndlvl/model_GLM2/'+ sub +'/fixedfx/cope_*')\n",
    "    cope_files.append(sorted(subjcopes_glob))\n",
    "    if len(cope_files[-1]) == 0:\n",
    "        print(sub)"
   ]
  },
  {
   "cell_type": "markdown",
   "metadata": {},
   "source": [
    "### Cell to double-check the array indexing"
   ]
  },
  {
   "cell_type": "code",
   "execution_count": null,
   "metadata": {
    "collapsed": false,
    "scrolled": false
   },
   "outputs": [],
   "source": [
    "#change first index of cope_files to indicate participant index in sids array\n",
    "for i, curr_mask in enumerate(mask_filenames[0]):\n",
    "    print(i, mask_filenames[0][i].split('/')[-1][:-7]) "
   ]
  },
  {
   "cell_type": "code",
   "execution_count": null,
   "metadata": {
    "collapsed": false
   },
   "outputs": [],
   "source": [
    "for i, curr_cope in enumerate(cope_files[0]):\n",
    "    print(i, cope_files[0][i].split('/')[-1][5:-7]) "
   ]
  },
  {
   "cell_type": "markdown",
   "metadata": {},
   "source": [
    "### Use binarized mask to obtain activation in left & right hemisphere for each region of interest"
   ]
  },
  {
   "cell_type": "code",
   "execution_count": null,
   "metadata": {
    "collapsed": false,
    "scrolled": true
   },
   "outputs": [],
   "source": [
    "all_data = {'subjid':[],\n",
    "            'lhhp_fixed_corr':[], 'rhhp_fixed_corr':[], \n",
    "            'lhhp_fixed_incorr':[], 'rhhp_fixed_incorr':[],\n",
    "            'lhhp_cond_corr':[], 'rhhp_cond_corr':[], \n",
    "            'lhhp_cond_incorr':[], 'rhhp_cond_incorr':[],\n",
    "            'lhcaud_fixed_corr':[], 'rhcaud_fixed_corr':[], \n",
    "            'lhcaud_fixed_incorr':[], 'rhcaud_fixed_incorr':[],\n",
    "            'lhcaud_cond_corr':[], 'rhcaud_cond_corr':[], \n",
    "            'lhcaud_cond_incorr':[], 'rhcaud_cond_incorr':[],\n",
    "            'lhput_fixed_corr':[], 'rhput_fixed_corr':[], \n",
    "            'lhput_fixed_incorr':[], 'rhput_fixed_incorr':[],\n",
    "            'lhput_cond_corr':[], 'rhput_cond_corr':[], \n",
    "            'lhput_cond_incorr':[], 'rhput_cond_incorr':[],\n",
    "            'lhmpfc_fixed_corr':[], 'rhmpfc_fixed_corr':[], \n",
    "            'lhmpfc_fixed_incorr':[], 'rhmpfc_fixed_incorr':[],\n",
    "            'lhmpfc_cond_corr':[], 'rhmpfc_cond_corr':[], \n",
    "            'lhmpfc_cond_incorr':[], 'rhmpfc_cond_incorr':[]}\n",
    "\n",
    "for i in range(len(subs)):\n",
    "    all_data['subjid'].append(subs[i])\n",
    "    #ROI masks\n",
    "    lh_hp_img = nb.load(mask_filenames[i][2])\n",
    "    rh_hp_img = nb.load(mask_filenames[i][11])\n",
    "    lh_mpfc_img = nb.load(mask_filenames[i][4])\n",
    "    rh_mpfc_img = nb.load(mask_filenames[i][13])\n",
    "    lh_caud_img = nb.load(mask_filenames[i][7])\n",
    "    rh_caud_img = nb.load(mask_filenames[i][8])\n",
    "    lh_put_img = nb.load(mask_filenames[i][16])\n",
    "    rh_put_img = nb.load(mask_filenames[i][17])   \n",
    "    #copes\n",
    "    fixed_corr_img = nb.load(cope_files[i][20])\n",
    "    fixed_incorr_img = nb.load(cope_files[i][21])\n",
    "    cond_corr_img = nb.load(cope_files[i][14])\n",
    "    cond_incorr_img = nb.load(cope_files[i][15]) \n",
    "    \n",
    "    region = ['hp', 'mpfc', 'caud', 'put']\n",
    "    learn_type = ['fixed_corr', 'fixed_incorr', 'cond_corr', 'cond_incorr']   \n",
    "    for r in region:\n",
    "        for l in learn_type:\n",
    "            lh_data = eval('{0}_img.get_data()[lh_{1}_img.get_data() > 0.]'.format(l,r))\n",
    "            all_data['lh{0}_{1}'.format(r,l)].append(np.mean(lh_data)) \n",
    "            rh_data = eval('{0}_img.get_data()[rh_{1}_img.get_data() > 0.]'.format(l,r))\n",
    "            all_data['rh{0}_{1}'.format(r,l)].append(np.mean(rh_data))\n",
    "    \n",
    "all_data_df = pd.DataFrame(all_data)"
   ]
  },
  {
   "cell_type": "markdown",
   "metadata": {},
   "source": [
    "### Combine two hemispheres to create one regional average"
   ]
  },
  {
   "cell_type": "code",
   "execution_count": null,
   "metadata": {
    "collapsed": false,
    "scrolled": true
   },
   "outputs": [],
   "source": [
    "region = ['hp', 'mpfc', 'caud', 'put']\n",
    "learn_type = ['fixed_corr', 'fixed_incorr', 'cond_corr', 'cond_incorr']\n",
    "for r in region:\n",
    "    for l in learn_type:\n",
    "        all_data_df['{0}_{1}'.format(r,l)] = (all_data_df['lh{0}_{1}'.format(r,l)] \n",
    "                                              + all_data_df['rh{0}_{1}'.format(r,l)])/2."
   ]
  },
  {
   "cell_type": "markdown",
   "metadata": {},
   "source": [
    "### Region-specific dataframes for producing plots"
   ]
  },
  {
   "cell_type": "code",
   "execution_count": null,
   "metadata": {
    "collapsed": false
   },
   "outputs": [],
   "source": [
    "hp_plot = {}\n",
    "mpfc_plot = {}\n",
    "caud_plot = {}\n",
    "put_plot = {}\n",
    "\n",
    "for i in ['hp', 'mpfc', 'caud', 'put']:\n",
    "    exec('{0}_plot[\"fixed_corr\"] = all_data_df[\"{0}_fixed_corr\"]'.format(i))\n",
    "    exec('{0}_plot[\"fixed_incorr\"] = all_data_df[\"{0}_fixed_incorr\"]'.format(i))\n",
    "    exec('{0}_plot[\"cond_corr\"] = all_data_df[\"{0}_cond_corr\"]'.format(i))\n",
    "    exec('{0}_plot[\"cond_incorr\"] = all_data_df[\"{0}_cond_incorr\"]'.format(i))\n",
    "    exec('{0}_plot_df = pd.DataFrame.from_dict({0}_plot)'.format(i))"
   ]
  },
  {
   "cell_type": "markdown",
   "metadata": {},
   "source": [
    "# Hippocampus"
   ]
  },
  {
   "cell_type": "code",
   "execution_count": null,
   "metadata": {
    "collapsed": true
   },
   "outputs": [],
   "source": [
    "hp_plot_df"
   ]
  },
  {
   "cell_type": "code",
   "execution_count": null,
   "metadata": {
    "collapsed": false,
    "scrolled": false
   },
   "outputs": [],
   "source": [
    "for key in hp_plot_df:\n",
    "    print \"Mean {0}: \".format(key), np.mean(hp_plot_df['{0}'.format(key)])\n",
    "    print \"STD {0}: \".format(key), np.std(hp_plot_df['{0}'.format(key)])\n",
    "    print \"\"\n",
    "N = 4\n",
    "conditions = ['Fixed Corr', 'Fixed Incorr', 'Conditional Corr', 'Conditional Incorr']\n",
    "hp_allsubjs = [hp_plot_df['fixed_corr'], hp_plot_df['fixed_incorr'],\n",
    "               hp_plot_df['cond_corr'], hp_plot_df['cond_incorr']]\n",
    "ind = np.arange(N)\n",
    "fig, ax = plt.subplots(figsize = (10,6))\n",
    "ax = sns.boxplot(data = hp_allsubjs, color = \"#278fea\", width = 0.3)\n",
    "ax = sns.swarmplot(data = hp_allsubjs, color='.25')\n",
    "ax.set_xticklabels(conditions)\n",
    "ax.set_xticks(ind)\n",
    "ax.set_ylabel(\"Arbitrary units\")\n",
    "ax.set_title(\"Hippocampal Activation\")\n",
    "plt.show()"
   ]
  },
  {
   "cell_type": "markdown",
   "metadata": {},
   "source": [
    "### Hippocampus - Fixed vs. Conditional"
   ]
  },
  {
   "cell_type": "code",
   "execution_count": null,
   "metadata": {
    "collapsed": false
   },
   "outputs": [],
   "source": [
    "all_fixed = hp_plot_df[['fixed_corr', 'fixed_incorr']].mean(axis=1)\n",
    "all_fixed = np.array(all_fixed)\n",
    "all_cond = hp_plot_df[['cond_corr', 'cond_incorr']].mean(axis=1)\n",
    "all_cond = np.array(all_cond)\n",
    "print \"HPC FIXED\", np.mean(all_fixed), np.std(all_fixed)\n",
    "print \"HPC COND\", np.mean(all_cond), np.std(all_cond)\n",
    "print \"\"\n",
    "print 'Hippocampus Fixed vs. Conditional'\n",
    "print stats.ttest_rel(all_fixed, all_cond)\n",
    "cohens_d = ((np.average(all_fixed) - np.average(all_cond)) / (sqrt((np.std(all_fixed, ddof = 1)) \n",
    "            ** 2 + np.std(all_cond, ddof = 1) ** 2) / 2))\n",
    "print \"Cohen's d = \", cohens_d\n",
    "N = 2\n",
    "conditions = ['Fixed', 'Conditional']\n",
    "hp_allsubjs = [all_fixed, all_cond]\n",
    "ind = np.arange(N)\n",
    "width = 0.5\n",
    "fig, ax = plt.subplots(figsize = (5,5))\n",
    "ax = sns.boxplot(data = hp_allsubjs, color = \"#278fea\", width = 0.3)\n",
    "ax = sns.swarmplot(data = hp_allsubjs, color='.25')\n",
    "ax.set_xticklabels(conditions)\n",
    "ax.set_xticks(ind)\n",
    "ax.set_ylabel(\"Arbitrary units\")\n",
    "ax.set_title(\"HPC Activation\")\n",
    "plt.show()"
   ]
  },
  {
   "cell_type": "markdown",
   "metadata": {},
   "source": [
    "### Hippocampus Fixed - Correct vs. Incorrect"
   ]
  },
  {
   "cell_type": "code",
   "execution_count": null,
   "metadata": {
    "collapsed": false
   },
   "outputs": [],
   "source": [
    "cohens_d=((np.average(hp_plot_df['fixed_corr'])-np.average(hp_plot_df['fixed_incorr']))\n",
    "          /(sqrt((np.std(hp_plot_df['fixed_corr'],ddof=1)) \n",
    "           **2+np.std(hp_plot_df['fixed_incorr'],ddof = 1)**2)/2))\n",
    "print 'Hippocampus Fixed Correct vs. Fixed Incorrect'\n",
    "print stats.ttest_rel(hp_plot_df['fixed_corr'], hp_plot_df['fixed_incorr'])\n",
    "print \"Cohen's d = \", cohens_d\n",
    "N = 2\n",
    "conditions = ['Fixed Corr', 'Fixed Incorr']\n",
    "hp_allsubjs = [hp_plot_df['fixed_corr'], hp_plot_df['fixed_incorr']]\n",
    "ind = np.arange(N)\n",
    "fig, ax = plt.subplots(figsize = (5,5))\n",
    "ax = sns.boxplot(data = hp_allsubjs, color = \"#278fea\", width = 0.3)\n",
    "ax = sns.swarmplot(data = hp_allsubjs, color='.25')\n",
    "ax.set_xticklabels(conditions)\n",
    "ax.set_xticks(ind)\n",
    "ax.set_ylabel(\"Arbitrary units\")\n",
    "ax.set_title(\"Hippocampal Activation\")\n",
    "plt.show()"
   ]
  },
  {
   "cell_type": "markdown",
   "metadata": {},
   "source": [
    "### Hippocampus Conditional - Correct vs. Incorrect"
   ]
  },
  {
   "cell_type": "code",
   "execution_count": null,
   "metadata": {
    "collapsed": false
   },
   "outputs": [],
   "source": [
    "cohens_d=((np.average(hp_plot_df['cond_corr'])-np.average(hp_plot_df['cond_incorr']))\n",
    "          /(sqrt((np.std(hp_plot_df['cond_corr'],ddof=1)) \n",
    "           **2+np.std(hp_plot_df['cond_incorr'],ddof = 1)**2)/2))\n",
    "print 'Hippocampus Conditional Correct vs. Conditional Incorrect'\n",
    "print stats.ttest_rel(hp_plot_df['cond_corr'], hp_plot_df['cond_incorr'])\n",
    "print \"Cohen's d = \", cohens_d\n",
    "\n",
    "N = 2\n",
    "conditions = ['Conditional Corr', 'Conditional Incorr']\n",
    "hp_allsubjs = [hp_plot_df['cond_corr'], hp_plot_df['cond_incorr']]\n",
    "ind = np.arange(N)\n",
    "fig, ax = plt.subplots(figsize = (5,5))\n",
    "ax = sns.boxplot(data = hp_allsubjs, color = \"#278fea\", width = 0.3)\n",
    "ax = sns.swarmplot(data = hp_allsubjs, color='.25')\n",
    "ax.set_xticklabels(conditions)\n",
    "ax.set_xticks(ind)\n",
    "ax.set_ylabel(\"Arbitrary units\")\n",
    "ax.set_title(\"Hippocampal Activation\")\n",
    "plt.show()"
   ]
  },
  {
   "cell_type": "markdown",
   "metadata": {},
   "source": [
    "# Medial PFC"
   ]
  },
  {
   "cell_type": "code",
   "execution_count": null,
   "metadata": {
    "collapsed": true
   },
   "outputs": [],
   "source": [
    "mpfc_plot_df"
   ]
  },
  {
   "cell_type": "code",
   "execution_count": null,
   "metadata": {
    "collapsed": false
   },
   "outputs": [],
   "source": [
    "for key in mpfc_plot_df:\n",
    "    print \"Mean {0}: \".format(key), np.mean(mpfc_plot_df['{0}'.format(key)])\n",
    "    print \"STD {0}: \".format(key), np.std(mpfc_plot_df['{0}'.format(key)])\n",
    "    print \"\"\n",
    "N = 4\n",
    "conditions = ['Fixed Corr', 'Fixed Incorr', 'Conditional Corr', 'Conditional Incorr']\n",
    "mpfc_allsubjs = [mpfc_plot_df['fixed_corr'], mpfc_plot_df['fixed_incorr'],\n",
    "                 mpfc_plot_df['cond_corr'], mpfc_plot_df['cond_incorr']]\n",
    "ind = np.arange(N)\n",
    "fig, ax = plt.subplots(figsize = (10,6))\n",
    "ax = sns.boxplot(data = mpfc_allsubjs, color = \"#f7a233\", width = 0.3)\n",
    "ax = sns.swarmplot(data = mpfc_allsubjs, color='.25')\n",
    "ax.set_xticklabels(conditions)\n",
    "ax.set_xticks(ind)\n",
    "ax.set_ylabel(\"Arbitrary units\")\n",
    "ax.set_title(\"Medial PFC Activation\")\n",
    "plt.show()"
   ]
  },
  {
   "cell_type": "markdown",
   "metadata": {},
   "source": [
    "### Medial PFC - Fixed vs. Conditional"
   ]
  },
  {
   "cell_type": "code",
   "execution_count": null,
   "metadata": {
    "collapsed": false
   },
   "outputs": [],
   "source": [
    "all_fixed = mpfc_plot_df[['fixed_corr', 'fixed_incorr']].mean(axis=1)\n",
    "all_fixed = np.array(all_fixed)\n",
    "all_cond = mpfc_plot_df[['cond_corr', 'cond_incorr']].mean(axis=1)\n",
    "all_cond = np.array(all_cond)\n",
    "print \"Medial PFC FIXED\", np.mean(all_fixed), np.std(all_fixed)\n",
    "print \"Medial PFC COND\", np.mean(all_cond), np.std(all_cond)\n",
    "print \"\"\n",
    "print 'Medial PFC Fixed vs. Conditional'\n",
    "print stats.ttest_rel(all_fixed, all_cond)\n",
    "cohens_d = ((np.average(all_fixed) - np.average(all_cond)) / (sqrt((np.std(all_fixed, ddof = 1)) \n",
    "            ** 2 + np.std(all_cond, ddof = 1) ** 2) / 2))\n",
    "print \"Cohen's d = \", cohens_d\n",
    "N = 2\n",
    "conditions = ['Fixed', 'Conditional']\n",
    "mpfc_allsubjs = [all_fixed, all_cond]\n",
    "ind = np.arange(N)\n",
    "width = 0.5\n",
    "fig, ax = plt.subplots(figsize = (5,5))\n",
    "ax = sns.boxplot(data = mpfc_allsubjs, color = \"#f7a233\", width = 0.3)\n",
    "ax = sns.swarmplot(data = mpfc_allsubjs, color='.25')\n",
    "ax.set_xticklabels(conditions)\n",
    "ax.set_xticks(ind)\n",
    "ax.set_ylabel(\"Arbitrary units\")\n",
    "ax.set_title(\"Medial PFC Activation\")\n",
    "plt.show()"
   ]
  },
  {
   "cell_type": "markdown",
   "metadata": {},
   "source": [
    "### Medial PFC Fixed - Correct vs. Incorrect"
   ]
  },
  {
   "cell_type": "code",
   "execution_count": null,
   "metadata": {
    "collapsed": false
   },
   "outputs": [],
   "source": [
    "cohens_d = ((np.average(mpfc_plot_df['fixed_corr']) - np.average(mpfc_plot_df['fixed_incorr']))\n",
    "           / (sqrt((np.std(mpfc_plot_df['fixed_corr'], ddof=1)) \n",
    "           ** 2 + np.std(mpfc_plot_df['fixed_incorr'], ddof = 1) ** 2) / 2))\n",
    "print 'Medial PFC Fixed Correct vs. Fixed Incorrect'\n",
    "print stats.ttest_rel(mpfc_plot_df['fixed_corr'], mpfc_plot_df['fixed_incorr'])\n",
    "print \"Cohen's d = \", cohens_d\n",
    "N = 2\n",
    "conditions = ['Fixed Corr', 'Fixed Incorr']\n",
    "mpfc_allsubjs = [mpfc_plot_df['fixed_corr'], mpfc_plot_df['fixed_incorr']]\n",
    "ind = np.arange(N)\n",
    "fig, ax = plt.subplots(figsize = (5,5))\n",
    "ax = sns.boxplot(data = mpfc_allsubjs, color = \"#f7a233\", width = 0.3)\n",
    "ax = sns.swarmplot(data = mpfc_allsubjs, color='.25')\n",
    "ax.set_xticklabels(conditions)\n",
    "ax.set_xticks(ind)\n",
    "ax.set_ylabel(\"Arbitrary units\")\n",
    "ax.set_title(\"Medial PFC Activation\")\n",
    "plt.show()"
   ]
  },
  {
   "cell_type": "markdown",
   "metadata": {},
   "source": [
    "### Medial PFC Conditional - Correct vs. Incorrect"
   ]
  },
  {
   "cell_type": "code",
   "execution_count": null,
   "metadata": {
    "collapsed": false
   },
   "outputs": [],
   "source": [
    "cohens_d = ((np.average(mpfc_plot_df['cond_corr']) - np.average(mpfc_plot_df['cond_incorr']))\n",
    "            / (sqrt((np.std(mpfc_plot_df['cond_corr'], ddof=1)) \n",
    "            ** 2 + np.std(mpfc_plot_df['cond_incorr'], ddof = 1) ** 2) / 2))\n",
    "print 'Medial PFC Conditional Correct vs. Conditional Incorrect'\n",
    "print stats.ttest_rel(mpfc_plot_df['cond_corr'], mpfc_plot_df['cond_incorr'])\n",
    "print \"Cohen's d = \", cohens_d\n",
    "N = 2\n",
    "conditions = ['Conditional Corr', 'Conditional Incorr']\n",
    "mpfc_allsubjs = [mpfc_plot_df['cond_corr'], mpfc_plot_df['cond_incorr']]\n",
    "ind = np.arange(N)\n",
    "fig, ax = plt.subplots(figsize = (5,5))\n",
    "ax = sns.boxplot(data = mpfc_allsubjs, color = \"#f7a233\", width = 0.3)\n",
    "ax = sns.swarmplot(data = mpfc_allsubjs, color='.25')\n",
    "ax.set_xticklabels(conditions)\n",
    "ax.set_xticks(ind)\n",
    "ax.set_ylabel(\"Arbitrary units\")\n",
    "ax.set_title(\"Medial PFC Activation\")\n",
    "plt.show()"
   ]
  },
  {
   "cell_type": "markdown",
   "metadata": {},
   "source": [
    "# Caudate"
   ]
  },
  {
   "cell_type": "code",
   "execution_count": null,
   "metadata": {
    "collapsed": false
   },
   "outputs": [],
   "source": [
    "caud_plot_df"
   ]
  },
  {
   "cell_type": "code",
   "execution_count": null,
   "metadata": {
    "collapsed": false,
    "scrolled": true
   },
   "outputs": [],
   "source": [
    "for key in caud_plot_df:\n",
    "    print \"Mean {0}: \".format(key), np.mean(caud_plot_df['{0}'.format(key)])\n",
    "    print \"STD {0}: \".format(key), np.std(caud_plot_df['{0}'.format(key)])\n",
    "    print \"\"\n",
    "N = 4\n",
    "conditions = ['Fixed Corr', 'Fixed Incorr', 'Conditional Corr', 'Conditional Incorr']\n",
    "caud_allsubjs = [caud_plot_df['fixed_corr'], caud_plot_df['fixed_incorr'],\n",
    "                 caud_plot_df['cond_corr'], caud_plot_df['cond_incorr']]\n",
    "ind = np.arange(N)\n",
    "fig, ax = plt.subplots(figsize = (10,6))\n",
    "ax = sns.boxplot(data = caud_allsubjs, color = \"#f9f96d\", width = 0.3)\n",
    "ax = sns.swarmplot(data = caud_allsubjs, color='.25')\n",
    "ax.set_xticklabels(conditions)\n",
    "ax.set_xticks(ind)\n",
    "ax.set_ylabel(\"Arbitrary units\")\n",
    "ax.set_title(\"Caudate Activation\")\n",
    "plt.show()"
   ]
  },
  {
   "cell_type": "markdown",
   "metadata": {},
   "source": [
    "### Caudate - Fixed vs. Conditional"
   ]
  },
  {
   "cell_type": "code",
   "execution_count": null,
   "metadata": {
    "collapsed": false
   },
   "outputs": [],
   "source": [
    "all_fixed = caud_plot_df[['fixed_corr', 'fixed_incorr']].mean(axis=1)\n",
    "all_fixed = np.array(all_fixed)\n",
    "all_cond = caud_plot_df[['cond_corr', 'cond_incorr']].mean(axis=1)\n",
    "all_cond = np.array(all_cond)\n",
    "print \"Caudate FIXED\", np.mean(all_fixed), np.std(all_fixed)\n",
    "print \"Caudate COND\", np.mean(all_cond), np.std(all_cond)\n",
    "print \"\"\n",
    "print 'Caudate Fixed vs. Conditional'\n",
    "print stats.ttest_rel(all_fixed, all_cond)\n",
    "cohens_d = ((np.average(all_fixed) - np.average(all_cond)) / (sqrt((np.std(all_fixed, ddof = 1)) \n",
    "            ** 2 + np.std(all_cond, ddof = 1) ** 2) / 2))\n",
    "print \"Cohen's d = \", cohens_d\n",
    "N = 2\n",
    "conditions = ['Fixed', 'Conditional']\n",
    "caud_allsubjs = [all_fixed, all_cond]\n",
    "ind = np.arange(N)\n",
    "width = 0.5\n",
    "fig, ax = plt.subplots(figsize = (5,5))\n",
    "ax = sns.boxplot(data = caud_allsubjs, color = \"#f9f96d\", width = 0.3)\n",
    "ax = sns.swarmplot(data = caud_allsubjs, color='.25')\n",
    "ax.set_xticklabels(conditions)\n",
    "ax.set_xticks(ind)\n",
    "ax.set_ylabel(\"Arbitrary units\")\n",
    "ax.set_title(\"Caudate Activation\")\n",
    "plt.show()"
   ]
  },
  {
   "cell_type": "markdown",
   "metadata": {},
   "source": [
    "### Caudate Fixed - Correct vs. Incorrect "
   ]
  },
  {
   "cell_type": "code",
   "execution_count": null,
   "metadata": {
    "collapsed": false
   },
   "outputs": [],
   "source": [
    "cohens_d=((np.average(caud_plot_df['fixed_corr']) - np.average(caud_plot_df['fixed_incorr']))\n",
    "          / (sqrt((np.std(caud_plot_df['fixed_corr'], ddof=1)) \n",
    "           ** 2 + np.std(caud_plot_df['fixed_incorr'], ddof = 1) ** 2) / 2))\n",
    "print 'Caudate Fixed Correct vs. Fixed Incorrect'\n",
    "print stats.ttest_rel(caud_plot_df['fixed_corr'], caud_plot_df['fixed_incorr'])\n",
    "print \"Cohen's d = \", cohens_d\n",
    "N = 2\n",
    "conditions = ['Fixed Corr', 'Fixed Incorr']\n",
    "caud_allsubjs = [caud_plot_df['fixed_corr'], caud_plot_df['fixed_incorr']]\n",
    "ind = np.arange(N)\n",
    "fig, ax = plt.subplots(figsize = (5,5))\n",
    "ax = sns.boxplot(data = caud_allsubjs, color = \"#f9f96d\", width = 0.3)\n",
    "ax = sns.swarmplot(data = caud_allsubjs, color='.25')\n",
    "ax.set_xticklabels(conditions)\n",
    "ax.set_xticks(ind)\n",
    "ax.set_ylabel(\"Arbitrary units\")\n",
    "ax.set_title(\"Caudate Activation\")\n",
    "plt.show()"
   ]
  },
  {
   "cell_type": "markdown",
   "metadata": {},
   "source": [
    "### Caudate Conditional - Correct vs. Incorrect"
   ]
  },
  {
   "cell_type": "code",
   "execution_count": null,
   "metadata": {
    "collapsed": false
   },
   "outputs": [],
   "source": [
    "cohens_d=((np.average(caud_plot_df['cond_corr']) - np.average(caud_plot_df['cond_incorr']))\n",
    "          / (sqrt((np.std(caud_plot_df['cond_corr'], ddof=1)) \n",
    "           ** 2 + np.std(caud_plot_df['cond_incorr'], ddof = 1) ** 2) / 2))\n",
    "print 'Caudate Conditional Correct vs. Conditional Incorrect'\n",
    "print stats.ttest_rel(caud_plot_df['cond_corr'], caud_plot_df['cond_incorr'])\n",
    "print \"Cohen's d = \", cohens_d\n",
    "N = 2\n",
    "conditions = ['Conditional Corr', 'Conditional Incorr']\n",
    "caud_allsubjs = [caud_plot_df['cond_corr'], caud_plot_df['cond_incorr']]\n",
    "ind = np.arange(N)\n",
    "fig, ax = plt.subplots(figsize = (5,5))\n",
    "ax = sns.boxplot(data = caud_allsubjs, color = \"#f9f96d\", width = 0.3)\n",
    "ax = sns.swarmplot(data = caud_allsubjs, color='.25')\n",
    "ax.set_xticklabels(conditions)\n",
    "ax.set_xticks(ind)\n",
    "ax.set_ylabel(\"Arbitrary units\")\n",
    "ax.set_title(\"Caudate Activation\")\n",
    "plt.show()"
   ]
  },
  {
   "cell_type": "markdown",
   "metadata": {},
   "source": [
    "# Putamen"
   ]
  },
  {
   "cell_type": "code",
   "execution_count": null,
   "metadata": {
    "collapsed": false
   },
   "outputs": [],
   "source": [
    "put_plot_df"
   ]
  },
  {
   "cell_type": "code",
   "execution_count": null,
   "metadata": {
    "collapsed": false,
    "scrolled": true
   },
   "outputs": [],
   "source": [
    "for key in put_plot_df:\n",
    "    print \"Mean {0}: \".format(key), np.mean(put_plot_df['{0}'.format(key)])\n",
    "    print \"STD {0}: \".format(key), np.std(put_plot_df['{0}'.format(key)])\n",
    "    print \"\"\n",
    "N = 4\n",
    "conditions = ['Fixed Corr', 'Fixed Incorr', 'Conditional Corr', 'Conditional Incorr']\n",
    "put_allsubjs = [put_plot_df['fixed_corr'], put_plot_df['fixed_incorr'],\n",
    "                put_plot_df['cond_corr'], put_plot_df['cond_incorr']]\n",
    "ind = np.arange(N)\n",
    "fig, ax = plt.subplots(figsize = (10,6))\n",
    "ax = sns.boxplot(data = put_allsubjs, color = \"#c34aef\", width = 0.3)\n",
    "ax = sns.swarmplot(data = put_allsubjs, color='.25')\n",
    "ax.set_xticklabels(conditions)\n",
    "ax.set_xticks(ind)\n",
    "ax.set_ylabel(\"Arbitrary units\")\n",
    "ax.set_title(\"Putamen Activation\")\n",
    "plt.show()"
   ]
  },
  {
   "cell_type": "markdown",
   "metadata": {},
   "source": [
    "### Putamen - Fixed vs. Conditional"
   ]
  },
  {
   "cell_type": "code",
   "execution_count": null,
   "metadata": {
    "collapsed": false
   },
   "outputs": [],
   "source": [
    "all_fixed = put_plot_df[['fixed_corr', 'fixed_incorr']].mean(axis=1)\n",
    "all_fixed = np.array(all_fixed)\n",
    "all_cond = put_plot_df[['cond_corr', 'cond_incorr']].mean(axis=1)\n",
    "all_cond = np.array(all_cond)\n",
    "print \"Putamen FIXED\", np.mean(all_fixed), np.std(all_fixed)\n",
    "print \"Putamen COND\", np.mean(all_cond), np.std(all_cond)\n",
    "print \"\"\n",
    "print 'Putamen Fixed vs. Conditional'\n",
    "print stats.ttest_rel(all_fixed, all_cond)\n",
    "cohens_d = ((np.average(all_fixed) - np.average(all_cond)) / (sqrt((np.std(all_fixed, ddof = 1)) \n",
    "            ** 2 + np.std(all_cond, ddof = 1) ** 2) / 2))\n",
    "print \"Cohen's d = \", cohens_d\n",
    "N = 2\n",
    "conditions = ['Fixed', 'Conditional']\n",
    "put_allsubjs = [all_fixed, all_cond]\n",
    "ind = np.arange(N)\n",
    "width = 0.5\n",
    "fig, ax = plt.subplots(figsize = (5,5))\n",
    "ax = sns.boxplot(data = put_allsubjs, color = \"#c34aef\", width = 0.3)\n",
    "ax = sns.swarmplot(data = put_allsubjs, color='.25')\n",
    "ax.set_xticklabels(conditions)\n",
    "ax.set_xticks(ind)\n",
    "ax.set_ylabel(\"Arbitrary units\")\n",
    "ax.set_title(\"Putamen Activation\")\n",
    "plt.show()"
   ]
  },
  {
   "cell_type": "markdown",
   "metadata": {},
   "source": [
    "### Putamen Fixed - Correct vs. Incorrect"
   ]
  },
  {
   "cell_type": "code",
   "execution_count": null,
   "metadata": {
    "collapsed": false
   },
   "outputs": [],
   "source": [
    "cohens_d = ((np.average(put_plot_df['fixed_corr']) - np.average(put_plot_df['fixed_incorr']))\n",
    "           / (sqrt((np.std(put_plot_df['fixed_corr'], ddof=1)) \n",
    "           ** 2 + np.std(put_plot_df['fixed_incorr'], ddof = 1) ** 2) / 2))\n",
    "print 'Putamen Fixed Correct vs. Fixed Incorrect'\n",
    "print stats.ttest_rel(put_plot_df['fixed_corr'], put_plot_df['fixed_incorr'])\n",
    "print \"Cohen's d = \", cohens_d\n",
    "N = 2\n",
    "conditions = ['Fixed Corr', 'Fixed Incorr']\n",
    "put_allsubjs = [put_plot_df['fixed_corr'], put_plot_df['fixed_incorr']]\n",
    "ind = np.arange(N)\n",
    "fig, ax = plt.subplots(figsize = (5,5))\n",
    "ax = sns.boxplot(data = put_allsubjs, color = \"#c34aef\", width = 0.3)\n",
    "ax = sns.swarmplot(data = put_allsubjs, color='.25')\n",
    "ax.set_xticklabels(conditions)\n",
    "ax.set_xticks(ind)\n",
    "ax.set_ylabel(\"Arbitrary units\")\n",
    "ax.set_title(\"Putamen Activation\")\n",
    "plt.show()"
   ]
  },
  {
   "cell_type": "markdown",
   "metadata": {},
   "source": [
    "### Putamen Conditional - Correct vs. Incorrect"
   ]
  },
  {
   "cell_type": "code",
   "execution_count": null,
   "metadata": {
    "collapsed": false
   },
   "outputs": [],
   "source": [
    "cohens_d = ((np.average(put_plot_df['cond_corr']) - np.average(put_plot_df['cond_incorr']))\n",
    "            / (sqrt((np.std(put_plot_df['cond_corr'], ddof=1)) \n",
    "            ** 2 + np.std(put_plot_df['cond_incorr'], ddof = 1) ** 2) / 2))\n",
    "print 'Putamen Conditional Correct vs. Conditional Incorrect'\n",
    "print stats.ttest_rel(put_plot_df['cond_corr'], put_plot_df['cond_incorr'])\n",
    "print \"Cohen's d = \", cohens_d\n",
    "N = 2\n",
    "conditions = ['Conditional Corr', 'Conditional Incorr']\n",
    "put_allsubjs = [put_plot_df['cond_corr'], put_plot_df['cond_incorr']]\n",
    "ind = np.arange(N)\n",
    "fig, ax = plt.subplots(figsize = (5,5))\n",
    "ax = sns.boxplot(data = put_allsubjs, color = \"#c34aef\", width = 0.3)\n",
    "ax = sns.swarmplot(data = put_allsubjs, color='.25')\n",
    "ax.set_xticklabels(conditions)\n",
    "ax.set_xticks(ind)\n",
    "ax.set_ylabel(\"Arbitrary units\")\n",
    "ax.set_title(\"Putamen Activation\")\n",
    "plt.show()"
   ]
  },
  {
   "cell_type": "markdown",
   "metadata": {},
   "source": [
    "# Correlation Scatterplots"
   ]
  },
  {
   "cell_type": "code",
   "execution_count": null,
   "metadata": {
    "collapsed": false
   },
   "outputs": [],
   "source": [
    "all_prop_fixed = []\n",
    "all_prop_cond = []\n",
    "\n",
    "for sub in subs:\n",
    "    sub_dir = '/home/data/madlab/data/mri/wmaze/scanner_behav/{0}/'.format(sub)\n",
    "    dir_file = glob(join(sub_dir, '{0}_wmazebl_2015*.txt'.format(sub)))   \n",
    "    dir_file.sort()    \n",
    "    \n",
    "    data_run1 = pd.read_table(dir_file[0])\n",
    "    data_run1 = data_run1[:-3]\n",
    "    data_run2 = pd.read_table(dir_file[1])\n",
    "    data_run2 = data_run2[:-3]\n",
    "    data_run3 = pd.read_table(dir_file[2])\n",
    "    data_run3 = data_run3[:-3]\n",
    "    data_run4 = pd.read_table(dir_file[3])\n",
    "    data_run4 = data_run4[:-3]\n",
    "    data_run5 = pd.read_table(dir_file[4])\n",
    "    data_run5 = data_run5[:-3]\n",
    "    data_run6 = pd.read_table(dir_file[5])\n",
    "    data_run6 = data_run6[:-3]\n",
    "    \n",
    "    all_runs = [data_run1, data_run2, data_run3, data_run4, data_run5, data_run6]    \n",
    "    data_set = pd.concat(all_runs)    \n",
    "    trialtype = data_set['TrialType'].values\n",
    "    correct = data_set['Correct'].values \n",
    "    \n",
    "    fixed_corr = np.where((correct == 1) & ((trialtype == 'A') | (trialtype == 'C')))[0]\n",
    "    fixed_incorr = np.where((correct == 0) & ((trialtype == 'A') | (trialtype == 'C')))[0]\n",
    "    cond_corr = np.where((trialtype == 'B') & (correct == 1)) [0] \n",
    "    cond_incorr = np.where((trialtype == 'B') & (correct == 0)) [0] \n",
    "     \n",
    "    all_prop_fixed.append(len(fixed_corr)/float(len(fixed_corr) + len(fixed_incorr)))\n",
    "    all_prop_cond.append(len(cond_corr)/float(len(cond_corr) + len(cond_incorr)))\n",
    "    \n",
    "all_data_df['prop_fixed'] = all_prop_fixed\n",
    "all_data_df['prop_cond'] = all_prop_cond"
   ]
  },
  {
   "cell_type": "code",
   "execution_count": null,
   "metadata": {
    "collapsed": true
   },
   "outputs": [],
   "source": [
    "region = ['hp', 'mpfc', 'caud', 'put']\n",
    "for r in region:\n",
    "    all_data_df['{0}_all_fixed_4'.format(r,l)] = (all_data_df['lh{0}_fixed_corr'.format(r)] \n",
    "                                                  + all_data_df['rh{0}_fixed_corr'.format(r)]\n",
    "                                                  + all_data_df['lh{0}_fixed_incorr'.format(r)] \n",
    "                                                  + all_data_df['rh{0}_fixed_incorr'.format(r)])/4.\n",
    "    all_data_df['{0}_all_cond_4'.format(r,l)] = (all_data_df['lh{0}_fixed_corr'.format(r)] \n",
    "                                                 + all_data_df['rh{0}_cond_corr'.format(r)]\n",
    "                                                 + all_data_df['lh{0}_cond_incorr'.format(r)] \n",
    "                                                 + all_data_df['rh{0}_cond_incorr'.format(r)])/4."
   ]
  },
  {
   "cell_type": "markdown",
   "metadata": {},
   "source": [
    "## Hippocampus"
   ]
  },
  {
   "cell_type": "code",
   "execution_count": null,
   "metadata": {
    "collapsed": false
   },
   "outputs": [],
   "source": [
    "x = all_data_df['prop_fixed']\n",
    "y = all_data_df['hp_all_fixed_4']\n",
    "\n",
    "print 'FIXED', pearsonr(x,y)\n",
    "fig, ax = plt.subplots()\n",
    "ax = sns.regplot(x = 'prop_fixed', y = 'hp_all_fixed_4', data = all_data_df)\n",
    "ax.set_ylabel('HPC Activation')\n",
    "ax.set_xlabel('Avg Performance')\n",
    "ax.set_title('HPC FIXED')\n",
    "plt.show()"
   ]
  },
  {
   "cell_type": "code",
   "execution_count": null,
   "metadata": {
    "collapsed": false
   },
   "outputs": [],
   "source": [
    "x = all_data_df['prop_cond']\n",
    "y = all_data_df['hp_all_cond_4']\n",
    "\n",
    "print 'CONDITIONAL', pearsonr(x,y)\n",
    "fig, ax = plt.subplots()\n",
    "ax = sns.regplot(x = 'prop_cond', y = 'hp_all_cond_4', data = all_data_df)\n",
    "ax.set_ylabel('HPC Activation')\n",
    "ax.set_xlabel('Avg Performance')\n",
    "ax.set_title('HPC CONDITIONAL')\n",
    "plt.show()"
   ]
  },
  {
   "cell_type": "markdown",
   "metadata": {
    "collapsed": true
   },
   "source": [
    "## Medial PFC"
   ]
  },
  {
   "cell_type": "code",
   "execution_count": null,
   "metadata": {
    "collapsed": false
   },
   "outputs": [],
   "source": [
    "x = all_data_df['prop_fixed']\n",
    "y = all_data_df['mpfc_all_fixed_4']\n",
    "\n",
    "print 'FIXED', pearsonr(x,y)\n",
    "fig, ax = plt.subplots()\n",
    "ax = sns.regplot(x = 'prop_fixed', y = 'mpfc_all_fixed_4', data = all_data_df, color = \"#fc8b02\")\n",
    "ax.set_ylabel('mPFC Activation')\n",
    "ax.set_xlabel('Avg Performance')\n",
    "ax.set_title('Medial PFC FIXED')\n",
    "plt.show()"
   ]
  },
  {
   "cell_type": "code",
   "execution_count": null,
   "metadata": {
    "collapsed": false
   },
   "outputs": [],
   "source": [
    "x = all_data_df['prop_fixed']\n",
    "y = all_data_df['mpfc_all_cond_4']\n",
    "\n",
    "print 'CONDITIONAL', pearsonr(x,y)\n",
    "fig, ax = plt.subplots()\n",
    "ax = sns.regplot(x = 'prop_cond', y = 'mpfc_all_cond_4', data = all_data_df, color = \"#fc8b02\")\n",
    "ax.set_ylabel('mPFC Activation')\n",
    "ax.set_xlabel('Avg Performance')\n",
    "ax.set_title('Medial PFC CONDITIONAL')\n",
    "plt.show()"
   ]
  },
  {
   "cell_type": "markdown",
   "metadata": {},
   "source": [
    "## Caudate"
   ]
  },
  {
   "cell_type": "code",
   "execution_count": null,
   "metadata": {
    "collapsed": false
   },
   "outputs": [],
   "source": [
    "x = all_data_df['prop_fixed']\n",
    "y = all_data_df['caud_all_fixed_4']\n",
    "\n",
    "print 'FIXED', pearsonr(x,y)\n",
    "fig, ax = plt.subplots()\n",
    "ax = sns.regplot(x = 'prop_fixed', y = 'caud_all_fixed_4', data = all_data_df, color = \"#f9c402\")\n",
    "ax.set_ylabel('Caudate Activation')\n",
    "ax.set_xlabel('Avg Performance')\n",
    "ax.set_title('Caudate FIXED')\n",
    "plt.show()"
   ]
  },
  {
   "cell_type": "code",
   "execution_count": null,
   "metadata": {
    "collapsed": false
   },
   "outputs": [],
   "source": [
    "x = all_data_df['prop_fixed']\n",
    "y = all_data_df['caud_all_cond_4']\n",
    "\n",
    "print 'CONDITIONAL', pearsonr(x,y)\n",
    "fig, ax = plt.subplots()\n",
    "ax = sns.regplot(x = 'prop_cond', y = 'caud_all_cond_4', data = all_data_df, color = \"#f9c402\")\n",
    "ax.set_ylabel('Caudate Activation')\n",
    "ax.set_xlabel('Avg Performance')\n",
    "ax.set_title('Caudate CONDITIONAL')\n",
    "plt.show()"
   ]
  },
  {
   "cell_type": "markdown",
   "metadata": {},
   "source": [
    "## Putamen"
   ]
  },
  {
   "cell_type": "code",
   "execution_count": null,
   "metadata": {
    "collapsed": false
   },
   "outputs": [],
   "source": [
    "x = all_data_df['prop_fixed']\n",
    "y = all_data_df['put_all_fixed_4']\n",
    "\n",
    "print 'FIXED', pearsonr(x,y)\n",
    "fig, ax = plt.subplots()\n",
    "ax = sns.regplot(x = 'prop_fixed', y = 'put_all_fixed_4', data = all_data_df, color = \"#c34aef\")\n",
    "ax.set_ylabel('Putamen Activation')\n",
    "ax.set_xlabel('Avg Performance')\n",
    "ax.set_title('Putamen FIXED')\n",
    "plt.show()"
   ]
  },
  {
   "cell_type": "code",
   "execution_count": null,
   "metadata": {
    "collapsed": false
   },
   "outputs": [],
   "source": [
    "x = all_data_df['prop_fixed']\n",
    "y = all_data_df['put_all_cond_4']\n",
    "\n",
    "print 'CONDITIONAL', pearsonr(x,y)\n",
    "fig, ax = plt.subplots()\n",
    "ax = sns.regplot(x = 'prop_cond', y = 'put_all_cond_4', data = all_data_df, color = \"#c34aef\")\n",
    "ax.set_ylabel('Putamen Activation')\n",
    "ax.set_xlabel('Avg Performance')\n",
    "ax.set_title('Putamen CONDITIONAL')\n",
    "plt.show()"
   ]
  }
 ],
 "metadata": {
  "anaconda-cloud": {},
  "kernelspec": {
   "display_name": "Python 2",
   "language": "python",
   "name": "python2"
  },
  "language_info": {
   "codemirror_mode": {
    "name": "ipython",
    "version": 2
   },
   "file_extension": ".py",
   "mimetype": "text/x-python",
   "name": "python",
   "nbconvert_exporter": "python",
   "pygments_lexer": "ipython2",
   "version": "2.7.12"
  }
 },
 "nbformat": 4,
 "nbformat_minor": 2
}
