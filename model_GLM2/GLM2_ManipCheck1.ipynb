{
 "cells": [
  {
   "cell_type": "markdown",
   "metadata": {},
   "source": [
    "# Model GLM2 - Manipulation Check\n",
    "### Investigates correlations between 1) regional activation for fixed following conditional trials, and 2) conditional performance"
   ]
  },
  {
   "cell_type": "code",
   "execution_count": null,
   "metadata": {
    "collapsed": false,
    "scrolled": true
   },
   "outputs": [],
   "source": [
    "from os.path import join\n",
    "from glob import glob\n",
    "from scipy import stats\n",
    "from scipy.stats import pearsonr\n",
    "from pylab import *\n",
    "from math import sqrt\n",
    "import nibabel as nb\n",
    "import pandas as pd\n",
    "import numpy as np\n",
    "import seaborn as sns\n",
    "import matplotlib.pyplot as plt\n",
    "%matplotlib inline\n",
    "sns.set_style(\"white\")\n",
    "sns.set_palette('muted')\n",
    "\n",
    "subs = ['WMAZE_001', 'WMAZE_002', 'WMAZE_004', 'WMAZE_005', 'WMAZE_006', \n",
    "        'WMAZE_007', 'WMAZE_008', 'WMAZE_009', 'WMAZE_010', 'WMAZE_012', \n",
    "        'WMAZE_017', 'WMAZE_018', 'WMAZE_019', 'WMAZE_020', 'WMAZE_021',  \n",
    "        'WMAZE_022', 'WMAZE_023', 'WMAZE_024', 'WMAZE_026', 'WMAZE_027']\n",
    "proj_dir = '/home/data/madlab/data/mri/wmaze' \n",
    "mask_filenames = []\n",
    "cope_files = []\n",
    "for sub in subs:\n",
    "    mask_filenames_glob = glob(proj_dir + '/roi_analysis/anat_masks/_subject_id_'+ sub +'/_anatmask_xfm*/*')\n",
    "    mask_filenames.append(sorted(mask_filenames_glob))\n",
    "    subjcopes_glob = glob(proj_dir +'/scndlvl/model_GLM2/'+ sub +'/fixedfx/cope_*')\n",
    "    cope_files.append(sorted(subjcopes_glob))\n",
    "    if len(cope_files[-1]) == 0:\n",
    "        print(sub)"
   ]
  },
  {
   "cell_type": "markdown",
   "metadata": {},
   "source": [
    "### Cell to double-check the array indexing"
   ]
  },
  {
   "cell_type": "code",
   "execution_count": null,
   "metadata": {
    "collapsed": true
   },
   "outputs": [],
   "source": [
    "#change first index of cope_files to indicate participant index in sids array\n",
    "for i, curr_mask in enumerate(mask_filenames[0]):\n",
    "    print(i, mask_filenames[0][i].split('/')[-1][:-7]) "
   ]
  },
  {
   "cell_type": "code",
   "execution_count": null,
   "metadata": {
    "collapsed": true
   },
   "outputs": [],
   "source": [
    "for i, curr_cope in enumerate(cope_files[0]):\n",
    "    print(i, cope_files[0][i].split('/')[-1][5:-7]) "
   ]
  },
  {
   "cell_type": "markdown",
   "metadata": {},
   "source": [
    "### Use binarized mask to obtain activation in left & right hemisphere for each region of interest"
   ]
  },
  {
   "cell_type": "code",
   "execution_count": null,
   "metadata": {
    "collapsed": false,
    "scrolled": true
   },
   "outputs": [],
   "source": [
    "all_data = {'subjid':[],\n",
    "            'lhhp_fixed_corr':[], 'rhhp_fixed_corr':[], \n",
    "            'lhhp_fixed_incorr':[], 'rhhp_fixed_incorr':[],\n",
    "            'lhhp_cond_corr':[], 'rhhp_cond_corr':[], \n",
    "            'lhhp_cond_incorr':[], 'rhhp_cond_incorr':[],\n",
    "            'lhcaud_fixed_corr':[], 'rhcaud_fixed_corr':[], \n",
    "            'lhcaud_fixed_incorr':[], 'rhcaud_fixed_incorr':[],\n",
    "            'lhcaud_cond_corr':[], 'rhcaud_cond_corr':[], \n",
    "            'lhcaud_cond_incorr':[], 'rhcaud_cond_incorr':[],\n",
    "            'lhput_fixed_corr':[], 'rhput_fixed_corr':[], \n",
    "            'lhput_fixed_incorr':[], 'rhput_fixed_incorr':[],\n",
    "            'lhput_cond_corr':[], 'rhput_cond_corr':[], \n",
    "            'lhput_cond_incorr':[], 'rhput_cond_incorr':[],\n",
    "            'lhmpfc_fixed_corr':[], 'rhmpfc_fixed_corr':[], \n",
    "            'lhmpfc_fixed_incorr':[], 'rhmpfc_fixed_incorr':[],\n",
    "            'lhmpfc_cond_corr':[], 'rhmpfc_cond_corr':[], \n",
    "            'lhmpfc_cond_incorr':[], 'rhmpfc_cond_incorr':[]}\n",
    "\n",
    "for i in range(len(subs)):\n",
    "    all_data['subjid'].append(subs[i])\n",
    "    #ROI masks\n",
    "    lh_hp_img = nb.load(mask_filenames[i][2])\n",
    "    rh_hp_img = nb.load(mask_filenames[i][11])\n",
    "    lh_mpfc_img = nb.load(mask_filenames[i][4])\n",
    "    rh_mpfc_img = nb.load(mask_filenames[i][13])\n",
    "    lh_caud_img = nb.load(mask_filenames[i][7])\n",
    "    rh_caud_img = nb.load(mask_filenames[i][8])\n",
    "    lh_put_img = nb.load(mask_filenames[i][16])\n",
    "    rh_put_img = nb.load(mask_filenames[i][17])   \n",
    "    #copes\n",
    "    fixed_corr_img = nb.load(cope_files[i][20])\n",
    "    fixed_incorr_img = nb.load(cope_files[i][21])\n",
    "    cond_corr_img = nb.load(cope_files[i][14])\n",
    "    cond_incorr_img = nb.load(cope_files[i][15]) \n",
    "    \n",
    "    region = ['hp', 'mpfc', 'caud', 'put']\n",
    "    learn_type = ['fixed_corr', 'fixed_incorr', 'cond_corr', 'cond_incorr']   \n",
    "    for r in region:\n",
    "        for l in learn_type:\n",
    "            lh_data = eval('{0}_img.get_data()[lh_{1}_img.get_data() > 0.]'.format(l,r))\n",
    "            all_data['lh{0}_{1}'.format(r,l)].append(np.mean(lh_data)) \n",
    "            rh_data = eval('{0}_img.get_data()[rh_{1}_img.get_data() > 0.]'.format(l,r))\n",
    "            all_data['rh{0}_{1}'.format(r,l)].append(np.mean(rh_data))\n",
    "    \n",
    "all_data_df = pd.DataFrame(all_data)"
   ]
  },
  {
   "cell_type": "code",
   "execution_count": null,
   "metadata": {
    "collapsed": false
   },
   "outputs": [],
   "source": [
    "region = ['hp', 'mpfc', 'caud', 'put']\n",
    "for r in region:\n",
    "    all_data_df['{0}_all_fixed_4'.format(r,l)] = (all_data_df['lh{0}_fixed_corr'.format(r)] \n",
    "                                                  + all_data_df['rh{0}_fixed_corr'.format(r)]\n",
    "                                                  + all_data_df['lh{0}_fixed_incorr'.format(r)] \n",
    "                                                  + all_data_df['rh{0}_fixed_incorr'.format(r)])/4.\n",
    "    all_data_df['{0}_all_cond_4'.format(r,l)] = (all_data_df['lh{0}_fixed_corr'.format(r)] \n",
    "                                                 + all_data_df['rh{0}_cond_corr'.format(r)]\n",
    "                                                 + all_data_df['lh{0}_cond_incorr'.format(r)] \n",
    "                                                 + all_data_df['rh{0}_cond_incorr'.format(r)])/4."
   ]
  },
  {
   "cell_type": "markdown",
   "metadata": {},
   "source": [
    "# Correlation Scatterplots"
   ]
  },
  {
   "cell_type": "code",
   "execution_count": null,
   "metadata": {
    "collapsed": false
   },
   "outputs": [],
   "source": [
    "all_prop_corr = []\n",
    "\n",
    "for sub in subs:\n",
    "    sub_dir = '/home/data/madlab/data/mri/wmaze/scanner_behav/{0}/'.format(sub)\n",
    "    dir_file = glob(join(sub_dir, '{0}_wmazebl_2015*.txt'.format(sub)))   \n",
    "    dir_file.sort()    \n",
    "    \n",
    "    data_run1 = pd.read_table(dir_file[0])\n",
    "    data_run1 = data_run1[:-3]\n",
    "    data_run2 = pd.read_table(dir_file[1])\n",
    "    data_run2 = data_run2[:-3]\n",
    "    data_run3 = pd.read_table(dir_file[2])\n",
    "    data_run3 = data_run3[:-3]\n",
    "    data_run4 = pd.read_table(dir_file[3])\n",
    "    data_run4 = data_run4[:-3]\n",
    "    data_run5 = pd.read_table(dir_file[4])\n",
    "    data_run5 = data_run5[:-3]\n",
    "    data_run6 = pd.read_table(dir_file[5])\n",
    "    data_run6 = data_run6[:-3]\n",
    "    \n",
    "    data_set = pd.concat([data_run1, data_run2, data_run3, data_run4, data_run5, data_run6]) \n",
    "    \n",
    "    trialtype = data_set['TrialType'].values\n",
    "    correct = data_set['Correct'].values     \n",
    "    #removing last trial and shifting down \n",
    "    trial_shift = trialtype[:-1] \n",
    "    trial_shift = np.insert(trial_shift, 0, -1)\n",
    "    correct_shift = correct[:-1]\n",
    "    correct_shift = np.insert(correct_shift, 0, -1)\n",
    "    \n",
    "    corr = sorted(np.where(((trial_shift == 'B') & (correct == 1)) & (trialtype != 'BL'))[0])    \n",
    "    incorr = sorted(np.where(((trial_shift == 'B') & (correct == 0)) & (trialtype != 'BL'))[0])   \n",
    "       \n",
    "    all_prop_corr.append(len(corr)/float(len(corr) + len(incorr)))\n",
    "    \n",
    "all_data_df['prop_corr'] = all_prop_corr"
   ]
  },
  {
   "cell_type": "markdown",
   "metadata": {},
   "source": [
    "## Hippocampus"
   ]
  },
  {
   "cell_type": "code",
   "execution_count": null,
   "metadata": {
    "collapsed": false
   },
   "outputs": [],
   "source": [
    "x = all_data_df['prop_corr']\n",
    "y = all_data_df['hp_all_cond_4']\n",
    "\n",
    "print 'COND --> FIXED', pearsonr(x,y)\n",
    "fig, ax = plt.subplots()\n",
    "ax = sns.regplot(x = 'prop_corr', y = 'hp_all_cond_4', data = all_data_df)\n",
    "ax.set_ylabel('HPC Conditional Activation')\n",
    "ax.set_xlabel('Avg Following Fixed Performance')\n",
    "ax.set_title('Hippocampus')\n",
    "plt.show()"
   ]
  },
  {
   "cell_type": "markdown",
   "metadata": {},
   "source": [
    "## Caudate"
   ]
  },
  {
   "cell_type": "code",
   "execution_count": null,
   "metadata": {
    "collapsed": false
   },
   "outputs": [],
   "source": [
    "x = all_data_df['prop_corr']\n",
    "y = all_data_df['caud_all_cond_4']\n",
    "\n",
    "print 'COND --> FIXED', pearsonr(x,y)\n",
    "fig, ax = plt.subplots()\n",
    "ax = sns.regplot(x = 'prop_corr', y = 'caud_all_cond_4', data = all_data_df, color = \"#f9c402\")\n",
    "ax.set_ylabel('Caudate Conditional Activation')\n",
    "ax.set_xlabel('Avg Following Fixed Performance')\n",
    "ax.set_title('Caudate')\n",
    "plt.show()"
   ]
  },
  {
   "cell_type": "markdown",
   "metadata": {},
   "source": [
    "## Putamen"
   ]
  },
  {
   "cell_type": "code",
   "execution_count": null,
   "metadata": {
    "collapsed": false
   },
   "outputs": [],
   "source": [
    "x = all_data_df['prop_corr']\n",
    "y = all_data_df['put_all_cond_4']\n",
    "\n",
    "print 'COND --> FIXED', pearsonr(x,y)\n",
    "fig, ax = plt.subplots()\n",
    "ax = sns.regplot(x = 'prop_corr', y = 'put_all_cond_4', data = all_data_df, color = \"#c34aef\")\n",
    "ax.set_ylabel('Putamen Conditional Activation')\n",
    "ax.set_xlabel('Avg Following Fixed Performance')\n",
    "ax.set_title('Putamen')\n",
    "plt.show()"
   ]
  },
  {
   "cell_type": "markdown",
   "metadata": {},
   "source": [
    "## Medial PFC"
   ]
  },
  {
   "cell_type": "code",
   "execution_count": null,
   "metadata": {
    "collapsed": false
   },
   "outputs": [],
   "source": [
    "x = all_data_df['prop_corr']\n",
    "y = all_data_df['mpfc_all_cond_4']\n",
    "\n",
    "print 'COND --> FIXED', pearsonr(x,y)\n",
    "fig, ax = plt.subplots()\n",
    "ax = sns.regplot(x = 'prop_corr', y = 'mpfc_all_cond_4', data = all_data_df, color = \"#fc8b02\")\n",
    "ax.set_ylabel('mPFC Conditional Activation')\n",
    "ax.set_xlabel('Avg Following Fixed Performance')\n",
    "ax.set_title('Medial PFC')\n",
    "plt.show()"
   ]
  },
  {
   "cell_type": "code",
   "execution_count": null,
   "metadata": {
    "collapsed": true
   },
   "outputs": [],
   "source": []
  }
 ],
 "metadata": {
  "anaconda-cloud": {},
  "kernelspec": {
   "display_name": "Python 2",
   "language": "python",
   "name": "python2"
  },
  "language_info": {
   "codemirror_mode": {
    "name": "ipython",
    "version": 2
   },
   "file_extension": ".py",
   "mimetype": "text/x-python",
   "name": "python",
   "nbconvert_exporter": "python",
   "pygments_lexer": "ipython2",
   "version": "2.7.12"
  }
 },
 "nbformat": 4,
 "nbformat_minor": 2
}
