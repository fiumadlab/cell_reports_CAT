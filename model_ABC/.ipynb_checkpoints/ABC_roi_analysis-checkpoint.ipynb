{
 "cells": [
  {
   "cell_type": "markdown",
   "metadata": {},
   "source": [
    "# MODEL ABC_corr (original ATM model)\n",
    "## ABCs for correct trials only\n",
    "## Compares activation for regions of interest using binarized masks:\n",
    "### Hippocampus (FS labels: hippocampus [17, 53])"
   ]
  },
  {
   "cell_type": "code",
   "execution_count": null,
   "metadata": {
    "collapsed": false,
    "scrolled": true
   },
   "outputs": [],
   "source": [
    "import os\n",
    "from glob import glob\n",
    "import nibabel as nb\n",
    "import pandas as pd\n",
    "import numpy as np\n",
    "%matplotlib inline\n",
    "import seaborn as sns\n",
    "import matplotlib.pyplot as plt\n",
    "from scipy import stats\n",
    "sns.set_palette('muted')\n",
    "\n",
    "sids = ['WMAZE_001', 'WMAZE_002', 'WMAZE_004', 'WMAZE_005', 'WMAZE_006', \n",
    "        'WMAZE_007', 'WMAZE_008', 'WMAZE_009', 'WMAZE_010', 'WMAZE_012', \n",
    "        'WMAZE_017', 'WMAZE_018', 'WMAZE_019', 'WMAZE_020', 'WMAZE_021',  \n",
    "        'WMAZE_022', 'WMAZE_023', 'WMAZE_024', 'WMAZE_026', 'WMAZE_027']\n",
    "#sids = ['WMAZE_001']\n",
    "\n",
    "proj_dir = '/home/data/madlab/data/mri/wmaze' \n",
    "mask_files = []\n",
    "cope_files = []\n",
    "\n",
    "for SID in sids:\n",
    "    mask_files_glob = glob(proj_dir + '/roi_analysis/MRthesis/fb4c_2/mask/anat_masks/_subject_id_' \n",
    "                               + SID + '/_anatmask_xfm*/*') #get masks\n",
    "    mask_files.append(sorted(mask_files_glob)) #append masks        \n",
    "    subjcopes_glob = glob(proj_dir + '/scndlvl/model_ABC/' + SID + '/fixedfx/cope_*') #get copes\n",
    "    subjcopes_glob = [f for f in subjcopes_glob if \"_corr\" in f] \n",
    "    cope_files.append(sorted(subjcopes_glob)) #append copes\n",
    "    if len(cope_files[-1]) == 0 or len(cope_files[-1]) != 3: #check to makes sure correct number of copes\n",
    "        print(SID)"
   ]
  },
  {
   "cell_type": "markdown",
   "metadata": {},
   "source": [
    "## Cell to double-check the array indexing"
   ]
  },
  {
   "cell_type": "code",
   "execution_count": null,
   "metadata": {
    "collapsed": false,
    "scrolled": true
   },
   "outputs": [],
   "source": [
    "#change first index of cope_files to indicate participant index in sids array\n",
    "for i, curr_mask in enumerate(mask_files[0]): #check masks\n",
    "    print(i, mask_files[0][i].split('/')[-1][:-7])"
   ]
  },
  {
   "cell_type": "code",
   "execution_count": null,
   "metadata": {
    "collapsed": false
   },
   "outputs": [],
   "source": [
    "for i, curr_cope in enumerate(cope_files[0]): #check copes\n",
    "    print(i, cope_files[0][i].split('/')[-1][5:-7]) "
   ]
  },
  {
   "cell_type": "markdown",
   "metadata": {},
   "source": [
    "### Use binarized mask to obtain activation in left & right hemisphere for each region of interest"
   ]
  },
  {
   "cell_type": "code",
   "execution_count": null,
   "metadata": {
    "collapsed": false,
    "scrolled": true
   },
   "outputs": [],
   "source": [
    "bihp_fb4c = {'A':[], 'B':[], 'C':[]} #bihemispheric masked activation\n",
    "biput_fb4c = {'A':[], 'B':[], 'C':[]}\n",
    "\n",
    "for i in range(len(sids)):\n",
    "    lh_hp_img = nb.load(mask_files[i][2]) #HPC masks\n",
    "    rh_hp_img = nb.load(mask_files[i][11])\n",
    "    lh_put_img = nb.load(mask_files[i][16])\n",
    "    rh_put_img = nb.load(mask_files[i][17])\n",
    "\n",
    "    A_img = nb.load(cope_files[i][0]) #second level copes for each trial type\n",
    "    B_img = nb.load(cope_files[i][1])\n",
    "    C_img = nb.load(cope_files[i][2])\n",
    "  \n",
    "    for key in bihp_fb4c: #get the activation for each cope only within mask ROI\n",
    "        lh_data = eval('np.mean({0}_img.get_data()[lh_hp_img.get_data() > 0.])'.format(key))            \n",
    "        rh_data = eval('np.mean({0}_img.get_data()[rh_hp_img.get_data() > 0.])'.format(key))\n",
    "        bihp_fb4c['{0}'.format(key)].append((lh_data + rh_data)/2.) #combine hemispheres\n",
    "        \n",
    "    for key in biput_fb4c: \n",
    "        lh_data = eval('np.mean({0}_img.get_data()[lh_put_img.get_data() > 0.])'.format(key))            \n",
    "        rh_data = eval('np.mean({0}_img.get_data()[rh_put_img.get_data() > 0.])'.format(key))\n",
    "        biput_fb4c['{0}'.format(key)].append((lh_data + rh_data)/2.) \n",
    "\n",
    "bihp_fb4c_df = pd.DataFrame(bihp_fb4c) #convert to Pandas dataframe  \n",
    "biput_fb4c_df = pd.DataFrame(biput_fb4c)"
   ]
  },
  {
   "cell_type": "markdown",
   "metadata": {},
   "source": [
    "# Hippocampus"
   ]
  },
  {
   "cell_type": "code",
   "execution_count": null,
   "metadata": {
    "collapsed": false
   },
   "outputs": [],
   "source": [
    "print stats.shapiro(bihp_fb4c_df['A']) #check the normality of each distribution\n",
    "print stats.shapiro(bihp_fb4c_df['B'])\n",
    "print stats.shapiro(bihp_fb4c_df['C'])"
   ]
  },
  {
   "cell_type": "code",
   "execution_count": null,
   "metadata": {
    "collapsed": false
   },
   "outputs": [],
   "source": [
    "bihp_fb4c_df #display dataframe to copy for SPSS"
   ]
  },
  {
   "cell_type": "code",
   "execution_count": null,
   "metadata": {
    "collapsed": false,
    "scrolled": false
   },
   "outputs": [],
   "source": [
    "sns.set_style(\"white\")\n",
    "for key in bihp_fb4c_df: #print the mean and std for each trial type\n",
    "    print \"Mean {0}: \".format(key), np.mean(bihp_fb4c_df['{0}'.format(key)])\n",
    "    print \"STD {0}: \".format(key), np.std(bihp_fb4c_df['{0}'.format(key)])\n",
    "    print \"\"\n",
    "print \"A vs B\", stats.ttest_rel(bihp_fb4c_df['A'], bihp_fb4c_df['B'])\n",
    "print \"C vs B\", stats.ttest_rel(bihp_fb4c_df['C'], bihp_fb4c_df['B'])\n",
    "print \"A vs C\", stats.ttest_rel(bihp_fb4c_df['A'], bihp_fb4c_df['C'])\n",
    "N = 3\n",
    "conditions = ['Fixed Left', 'Conditional', 'Fixed Right']\n",
    "hp_allsubjs = [bihp_fb4c_df['A'], bihp_fb4c_df['B'], bihp_fb4c_df['C']]\n",
    "ind = np.arange(N)\n",
    "fig, ax = plt.subplots(figsize = (8,5))\n",
    "ax0 = sns.boxplot(data = hp_allsubjs, color = \"#278fea\", width = 0.3) #display boxplot\n",
    "ax2 = sns.swarmplot(data = hp_allsubjs, color='.25') #display swarmplot\n",
    "ax.set_xticks(ind)\n",
    "ax.set_xticklabels(conditions)\n",
    "ax.set_ylabel(\"Activation\")\n",
    "ax.set_title(\"Hippocampus\")\n",
    "ax.set_ylim(-8,8)\n",
    "plt.show()"
   ]
  },
  {
   "cell_type": "markdown",
   "metadata": {
    "collapsed": true
   },
   "source": [
    "# Putamen"
   ]
  },
  {
   "cell_type": "code",
   "execution_count": null,
   "metadata": {
    "collapsed": false
   },
   "outputs": [],
   "source": [
    "print stats.shapiro(biput_fb4c_df['A']) #check the normality of each distribution\n",
    "print stats.shapiro(biput_fb4c_df['B'])\n",
    "print stats.shapiro(biput_fb4c_df['C'])"
   ]
  },
  {
   "cell_type": "code",
   "execution_count": null,
   "metadata": {
    "collapsed": false
   },
   "outputs": [],
   "source": [
    "biput_fb4c_df"
   ]
  },
  {
   "cell_type": "code",
   "execution_count": null,
   "metadata": {
    "collapsed": false
   },
   "outputs": [],
   "source": [
    "for key in biput_fb4c_df: #print the mean and std for each trial type\n",
    "    print \"Mean {0}: \".format(key), np.mean(biput_fb4c_df['{0}'.format(key)])\n",
    "    print \"STD {0}: \".format(key), np.std(biput_fb4c_df['{0}'.format(key)])\n",
    "    print \"\"\n",
    "print \"A vs B\", stats.ttest_rel(biput_fb4c_df['A'], biput_fb4c_df['B'])\n",
    "print \"C vs B\", stats.ttest_rel(biput_fb4c_df['C'], biput_fb4c_df['B'])\n",
    "print \"A vs C\", stats.ttest_rel(biput_fb4c_df['A'], biput_fb4c_df['C'])\n",
    "N = 3\n",
    "conditions = ['Fixed Left', 'Conditional', 'Fixed Right']\n",
    "put_allsubjs = [biput_fb4c_df['A'], biput_fb4c_df['B'], biput_fb4c_df['C']]\n",
    "ind = np.arange(N)\n",
    "fig, ax = plt.subplots(figsize = (8,5))\n",
    "ax0 = sns.boxplot(data = put_allsubjs, color = \"#c34aef\", width = 0.3) #display boxplot\n",
    "ax2 = sns.swarmplot(data = put_allsubjs, color='.25') #display swarmplot\n",
    "ax.set_xticks(ind)\n",
    "ax.set_xticklabels(conditions)\n",
    "ax.set_ylabel(\"Activation\")\n",
    "ax.set_title(\"Putamen\")\n",
    "ax.set_ylim(-8,8)\n",
    "plt.show()"
   ]
  }
 ],
 "metadata": {
  "anaconda-cloud": {},
  "kernelspec": {
   "display_name": "Python 2",
   "language": "python",
   "name": "python2"
  },
  "language_info": {
   "codemirror_mode": {
    "name": "ipython",
    "version": 2
   },
   "file_extension": ".py",
   "mimetype": "text/x-python",
   "name": "python",
   "nbconvert_exporter": "python",
   "pygments_lexer": "ipython2",
   "version": "2.7.12"
  }
 },
 "nbformat": 4,
 "nbformat_minor": 2
}
