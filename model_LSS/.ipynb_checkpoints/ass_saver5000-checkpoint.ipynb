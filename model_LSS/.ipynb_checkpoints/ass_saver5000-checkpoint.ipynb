{
 "cells": [
  {
   "cell_type": "markdown",
   "metadata": {},
   "source": [
    "## Convert 3000ms EVs to 2500ms"
   ]
  },
  {
   "cell_type": "code",
   "execution_count": 17,
   "metadata": {
    "collapsed": false,
    "scrolled": true
   },
   "outputs": [],
   "source": [
    "import os\n",
    "from os.path import join\n",
    "import numpy as np\n",
    "import pandas as pd\n",
    "from glob import glob\n",
    "\n",
    "subs = ['WMAZE_001', 'WMAZE_002', 'WMAZE_004', 'WMAZE_005', 'WMAZE_006',\n",
    "        'WMAZE_007', 'WMAZE_008', 'WMAZE_009', 'WMAZE_010', 'WMAZE_012',\n",
    "        'WMAZE_017', 'WMAZE_018', 'WMAZE_019', 'WMAZE_020', 'WMAZE_021',\n",
    "        'WMAZE_022', 'WMAZE_023', 'WMAZE_024', 'WMAZE_026', 'WMAZE_027']\n",
    "stim_sets = ['set1', 'set2', 'set3']\n",
    "\n",
    "for sub in subs:\n",
    "    sub_dir = '/home/data/madlab/data/mri/wmaze/scanner_behav/{0}/'.format(sub)\n",
    "    ev_files = sorted(glob(join(sub_dir, 'MRthesis/model3_1-3-2/EVs/run*.txt'))) \n",
    "    \n",
    "    if not os.path.exists(join(sub_dir, 'model_LSS2/')): \n",
    "                os.makedirs(join(sub_dir, 'model_LSS2/')) \n",
    "    \n",
    "    for i, ev_file in enumerate(ev_files):\n",
    "        curr_evs = np.loadtxt(ev_file)\n",
    "        if curr_evs.size == 3:\n",
    "            curr_evs[1] = 2.5\n",
    "            curr_evs = curr_evs.reshape(1,-1)\n",
    "        elif curr_evs.size != 0:\n",
    "            curr_evs[:,1] = 2.5\n",
    "        np.savetxt(sub_dir + 'model_LSS2/' + ev_file.split('/')[-1], curr_evs, delimiter='\\t',fmt='%.4f')"
   ]
  },
  {
   "cell_type": "code",
   "execution_count": null,
   "metadata": {
    "collapsed": true
   },
   "outputs": [],
   "source": []
  }
 ],
 "metadata": {
  "anaconda-cloud": {},
  "kernelspec": {
   "display_name": "Python 2",
   "language": "python",
   "name": "python2"
  },
  "language_info": {
   "codemirror_mode": {
    "name": "ipython",
    "version": 2
   },
   "file_extension": ".py",
   "mimetype": "text/x-python",
   "name": "python",
   "nbconvert_exporter": "python",
   "pygments_lexer": "ipython2",
   "version": "2.7.12"
  }
 },
 "nbformat": 4,
 "nbformat_minor": 1
}
