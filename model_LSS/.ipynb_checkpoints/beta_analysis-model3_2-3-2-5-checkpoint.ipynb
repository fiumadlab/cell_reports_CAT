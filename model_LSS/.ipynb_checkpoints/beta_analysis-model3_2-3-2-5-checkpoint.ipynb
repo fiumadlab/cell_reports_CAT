{
 "cells": [
  {
   "cell_type": "markdown",
   "metadata": {},
   "source": [
    "# MODEL 3 Version 2.3.2.5\n",
    "### Contains only fixed-before-conditional trials without intervening BLs\n",
    "### Combines A & C trials into single regressor\n",
    "### Accounts for last three noisy volumes via FSL ROI -- removal and recreation of EPI files\n",
    "### Compares positive derivative to negative derivatives"
   ]
  },
  {
   "cell_type": "markdown",
   "metadata": {
    "collapsed": true
   },
   "source": [
    "#  WMAZE Beta Series correlation Analysis\n",
    "\n",
    "## Obtains Correlation values for the regions of interest:\n",
    "### Hippocampus (FS labels: hippocampus [17, 53])\n",
    "### Dorsal caudate (hand-drawn by Mandy)\n",
    "### Medial PFC (FS labels: rostral anterior cingulate [1026, 2026] & caudal anterior cingulate [1002, 2002])\n",
    "### Dorsolateral PFC (Lausanne atlas: dlPFC)"
   ]
  },
  {
   "cell_type": "raw",
   "metadata": {
    "collapsed": true
   },
   "source": [
    "import nipype.pipeline as pe\n",
    "import nipype.interfaces.io as nio\n",
    "import os\n",
    "import nipype.interfaces.freesurfer as fs\n",
    "from nipype import IdentityInterface\n",
    "\n",
    "\n",
    "subjects_dir = '/home/data/madlab/surfaces/wmaze'\n",
    "work_dir = '/scratch/madlab/wmaze/regions_workdir'\n",
    "sink_dir = '/home/data/madlab/data/mri/wmaze/roi_analysis/model3_betaseries/mask'\n",
    "\n",
    "sids = ['WMAZE_001', 'WMAZE_002', 'WMAZE_004', 'WMAZE_005', 'WMAZE_006', \n",
    "        'WMAZE_007', 'WMAZE_008', 'WMAZE_009', 'WMAZE_010', 'WMAZE_012', \n",
    "        'WMAZE_017', 'WMAZE_018', 'WMAZE_019', 'WMAZE_020', 'WMAZE_021', \n",
    "        'WMAZE_022', 'WMAZE_023', 'WMAZE_024', 'WMAZE_026', 'WMAZE_027']\n",
    "\n",
    "wf = pe.Workflow(name = 'wf')\n",
    "wf.base_dir = work_dir\n",
    "\n",
    "# Node: subject_iterable\n",
    "subj_iterable = pe.Node(IdentityInterface(fields = ['subject_id'], \n",
    "                                          mandatory_inputs = True),\n",
    "                        name = 'subj_iterable')\n",
    "subj_iterable.iterables = ('subject_id', sids)\n",
    "\n",
    "info = dict(ref_epi_file = [['subject_id']],\n",
    "            bbreg_xfm = [['subject_id']],\n",
    "            aparc_aseg = [['subject_id']])\n",
    "\n",
    "# Node: Datagrabber\n",
    "datasource = pe.Node(nio.DataGrabber(infields = ['subject_id'],\n",
    "                                     outfields = info.keys()),\n",
    "                     name = 'datasource')\n",
    "datasource.inputs.base_directory = os.path.abspath('/home/data/madlab/')\n",
    "datasource.inputs.field_template = dict(ref_epi_file = 'data/mri/wmaze/preproc/%s/ref/*.nii.gz',\n",
    "                                        bbreg_xfm = 'data/mri/wmaze/preproc/%s/bbreg/_fs_register0/*.dat',\n",
    "                                        aparc_aseg = 'surfaces/wmaze/%s/mri/aparc+aseg.mgz')\n",
    "datasource.inputs.template = '*'\n",
    "datasource.inputs.template_args = info\n",
    "datasource.inputs.sort_filelist = True\n",
    "datasource.inputs.ignore_exception = False\n",
    "datasource.inputs.raise_on_empty = True\n",
    "wf.connect(subj_iterable, 'subject_id', datasource, 'subject_id')\n",
    "\n",
    "\n",
    "# MapNode: Create binarized ROI masks\n",
    "anat_mask = pe.MapNode(fs.Binarize(),\n",
    "                       iterfield = ['match', 'binary_file'], \n",
    "                       name = 'anat_mask')\n",
    "anat_mask.inputs.match = [[1017, 1024, 1106], [2017, 2024, 2106]] #paracentral, precentral, frontal_inf-Opercular_part\n",
    "                          \n",
    "anat_mask.inputs.binary_file = ['lh-motor.nii.gz','rh-motor.nii.gz']\n",
    "wf.connect(datasource, 'aparc_aseg', anat_mask, 'in_file')\n",
    "\n",
    "\n",
    "# MapNode: Transform the masks to 1st volume of 1st run (EPI space)\n",
    "anatmask_xfm = pe.MapNode(fs.ApplyVolTransform(inverse = True,\n",
    "                                               interp = 'nearest'),\n",
    "                          iterfield = ['target_file'],\n",
    "                          name = 'anatmask_xfm')\n",
    "anatmask_xfm.inputs.subjects_dir = subjects_dir\n",
    "wf.connect(datasource, 'ref_epi_file', anatmask_xfm, 'source_file')\n",
    "wf.connect(datasource, 'bbreg_xfm', anatmask_xfm, 'reg_file')\n",
    "wf.connect(anat_mask, 'binary_file', anatmask_xfm, 'target_file')\n",
    "\n",
    "# Node: Datasink\n",
    "sinker = pe.Node(nio.DataSink(infields = None),\n",
    "                 name = \"sinker\")\n",
    "sinker.inputs._outputs = {}\n",
    "sinker.inputs.base_directory = sink_dir\n",
    "sinker.inputs.ignore_exception = False\n",
    "sinker.inputs.parameterization = True\n",
    "sinker.inputs.remove_dest_dir = False\n",
    "wf.connect(anatmask_xfm, 'transformed_file', sinker, 'anat_masks')\n",
    "\n",
    "wf.run(plugin = 'LSF', plugin_args = {'bsub_args': '-q PQ_madlab'})"
   ]
  },
  {
   "cell_type": "markdown",
   "metadata": {},
   "source": [
    "### Use Glob to grab all previously created anatomy masks and beta series cope files"
   ]
  },
  {
   "cell_type": "code",
   "execution_count": 14,
   "metadata": {
    "collapsed": false
   },
   "outputs": [],
   "source": [
    "from glob import glob\n",
    " \n",
    "subs = ['WMAZE_001', 'WMAZE_002', 'WMAZE_004', 'WMAZE_005', 'WMAZE_006',\n",
    "        'WMAZE_007', 'WMAZE_008', 'WMAZE_009', 'WMAZE_010', 'WMAZE_012',\n",
    "        'WMAZE_017', 'WMAZE_018', 'WMAZE_019', 'WMAZE_020', 'WMAZE_021',  \n",
    "        'WMAZE_022', 'WMAZE_023', 'WMAZE_024', 'WMAZE_026', 'WMAZE_027']\n",
    "proj_dir = '/home/data/madlab/data/mri/wmaze'\n",
    " \n",
    "mask_files = []\n",
    "cope_files = []\n",
    "\n",
    "for sub in subs:\n",
    "    # Grab the mask files for each subject\n",
    "    mask_filenames_glob = glob(proj_dir + '/roi_analysis/model3_betaseries/mask/anat_masks/_subject_id_' + sub + \n",
    "                               '/_anatmask_xfm*/*')\n",
    "    mask_files.append(sorted(mask_filenames_glob))\n",
    "    # Grab the cope files for each subject\n",
    "    subjcopes_glob = glob(proj_dir + '/frstlvl/wmaze_MRthesis/fixed_before_conditional/model3_2-3-2-5/merge_copes/'\n",
    "                          + sub + '/merged/cope_*')\n",
    "    cope_files.append(sorted(subjcopes_glob))\n",
    "    # If there are no cope files, print subject id\n",
    "    if len(cope_files[-1]) == 0:\n",
    "        print(sub)\n",
    "    if len(mask_files[-1]) < 15:\n",
    "        print(sub)"
   ]
  },
  {
   "cell_type": "markdown",
   "metadata": {},
   "source": [
    "### Cell to double-check the array indexing for both the masks and the copes"
   ]
  },
  {
   "cell_type": "code",
   "execution_count": 15,
   "metadata": {
    "collapsed": false
   },
   "outputs": [
    {
     "name": "stdout",
     "output_type": "stream",
     "text": [
      "(0, 'lh-dlPFC_lausanne_warped')\n",
      "(1, 'lh-hippocampus_warped')\n",
      "(2, 'lh-mPFC_fs-3reg_warped')\n",
      "(3, 'lh-mPFC_lausanne_warped')\n",
      "(4, 'lh-mPFC_rac-only_warped')\n",
      "(5, 'lh-mPFC_warped')\n",
      "(6, 'lh-motor_warped')\n",
      "(7, 'lh-putamen_warped')\n",
      "(8, 'lh_caudate_anat_mask_warped')\n",
      "(9, 'rh-dlPFC_lausanne_warped')\n",
      "(10, 'rh-hippocampus_warped')\n",
      "(11, 'rh-mPFC_warped')\n",
      "(12, 'rh-putamen_warped')\n",
      "(13, 'rh_caudate_anat_mask_warped')\n",
      "(14, 'rh-mPFC_fs-3reg_warped')\n",
      "(15, 'rh-mPFC_lausanne_warped')\n",
      "(16, 'rh-mPFC_rac-only_warped')\n",
      "(17, 'rh-motor_warped')\n",
      "(18, 'lh-mPFC_rac-cac_warped')\n",
      "(19, 'rh-mPFC_rac-cac_warped')\n"
     ]
    }
   ],
   "source": [
    "#change first index of cope_files to indicate participant index in sids array\n",
    "for i, curr_mask in enumerate(mask_filenames[0]):\n",
    "    print(i, mask_filenames[0][i].split('/')[-1][:-7]) "
   ]
  },
  {
   "cell_type": "code",
   "execution_count": 16,
   "metadata": {
    "collapsed": false
   },
   "outputs": [
    {
     "name": "stdout",
     "output_type": "stream",
     "text": [
      "(0, 'learning')\n",
      "(1, 'nonlearning')\n"
     ]
    }
   ],
   "source": [
    "for i, curr_cope in enumerate(cope_files[0]):\n",
    "    print(i, cope_files[0][i].split('/')[-1][5:-7]) "
   ]
  },
  {
   "cell_type": "markdown",
   "metadata": {},
   "source": [
    "### Use binarized mask to obtain activation in left & right hemisphere for each ROI"
   ]
  },
  {
   "cell_type": "code",
   "execution_count": 17,
   "metadata": {
    "collapsed": false,
    "scrolled": true
   },
   "outputs": [],
   "source": [
    "all_data = {'subjid':[],\n",
    "            'lhhp_nonlearn':[], 'rhhp_nonlearn':[], 'lhhp_learn':[], 'rhhp_learn':[],\n",
    "            'lhcaud_nonlearn':[], 'rhcaud_nonlearn':[], 'lhcaud_learn':[], 'rhcaud_learn':[],\n",
    "            'lhdlpfc_nonlearn':[], 'rhdlpfc_nonlearn':[], 'lhdlpfc_learn':[], 'rhdlpfc_learn':[],\n",
    "            'lhmpfc_nonlearn':[], 'rhmpfc_nonlearn':[], 'lhmpfc_learn':[], 'rhmpfc_learn':[],\n",
    "            'lhput_nonlearn':[], 'rhput_nonlearn':[], 'lhput_learn':[], 'rhput_learn':[],\n",
    "            'lhmotor_nonlearn':[], 'rhmotor_nonlearn':[], 'lhmotor_learn':[], 'rhmotor_learn':[]}\n",
    "\n",
    "corr_matrix = np.zeros((len(subs), 7)) \n",
    "\n",
    "for i in range(len(subs)):\n",
    "    all_data['subjid'].append(subs[i])\n",
    "    #ROI masks\n",
    "    lh_hp_img = nb.load(mask_files[i][1])\n",
    "    rh_hp_img = nb.load(mask_files[i][10])\n",
    "    lh_mpfc_img = nb.load(mask_files[i][18])\n",
    "    rh_mpfc_img = nb.load(mask_files[i][19])\n",
    "    lh_caud_img = nb.load(mask_files[i][8])\n",
    "    rh_caud_img = nb.load(mask_files[i][13]) \n",
    "    lh_dlpfc_img = nb.load(mask_files[i][0])\n",
    "    rh_dlpfc_img = nb.load(mask_files[i][9])    \n",
    "    lh_put_img = nb.load(mask_files[i][7])\n",
    "    rh_put_img = nb.load(mask_files[i][12])    \n",
    "    lh_motor_img = nb.load(mask_files[i][6])\n",
    "    rh_motor_img = nb.load(mask_files[i][17]) \n",
    "    #copes\n",
    "    learn_img = nb.load(cope_files[i][0])\n",
    "    nonlearn_img = nb.load(cope_files[i][1])   \n",
    "  \n",
    "    region = ['hp', 'mpfc', 'caud', 'dlpfc', 'put', 'motor']\n",
    "    learn_type = ['learn', 'nonlearn']   \n",
    "    for r in region: #iterate by region and learn_type to get cope voxels only in masked region\n",
    "        for l in learn_type:\n",
    "            lh_data = eval('{0}_img.get_data()[lh_{1}_img.get_data() > 0.]'.format(l,r))\n",
    "            all_data['lh{0}_{1}'.format(r,l)].append(lh_data[0:-1])          \n",
    "            rh_data = eval('{0}_img.get_data()[rh_{1}_img.get_data() > 0.]'.format(l,r))\n",
    "            all_data['rh{0}_{1}'.format(r,l)].append(rh_data[0:-1])\n",
    "            \n",
    "    #all keys to be combined into bihemispheric masks\n",
    "    all_keys = ['lhhp_nonlearn', 'rhhp_nonlearn', 'lhhp_learn', 'rhhp_learn',        \n",
    "                'lhcaud_nonlearn', 'rhcaud_nonlearn', 'lhcaud_learn', 'rhcaud_learn', \n",
    "                'lhput_nonlearn', 'rhput_nonlearn', 'lhput_learn', 'rhput_learn', \n",
    "                'lhdlpfc_nonlearn', 'rhdlpfc_nonlearn', 'lhdlpfc_learn', 'rhdlpfc_learn',\n",
    "                'lhmpfc_nonlearn', 'rhmpfc_nonlearn', 'lhmpfc_learn', 'rhmpfc_learn',\n",
    "                'lhmotor_nonlearn', 'rhmotor_nonlearn', 'lhmotor_learn', 'rhmotor_learn']\n",
    "            \n",
    "    for key in all_keys: #averaging each column for only current participant \n",
    "        all_data[key][-1] = np.mean(all_data[key][-1],axis=0) \n",
    "        \n",
    "    for r in region: #combine two hemispheres into single mask\n",
    "        for l in learn_type:\n",
    "            all_data['{0}_{1}'.format(r,l)] = (np.array(all_data['lh{0}_{1}'.format(r,l)][-1])\n",
    "                                               + np.array(all_data['rh{0}_{1}'.format(r,l)][-1]))/2\n",
    "                \n",
    "    corr_matrix[i][0] = float(subs[i][-3:]) #creation of correlation matrix\n",
    "    corr_matrix[i][1] = stats.pearsonr(all_data['hp_learn'], all_data['mpfc_learn'])[0]\n",
    "    corr_matrix[i][2] = stats.pearsonr(all_data['hp_nonlearn'], all_data['mpfc_nonlearn'])[0]\n",
    "    corr_matrix[i][3] = stats.pearsonr(all_data['caud_learn'], all_data['dlpfc_learn'])[0]\n",
    "    corr_matrix[i][4] = stats.pearsonr(all_data['caud_nonlearn'], all_data['dlpfc_nonlearn'])[0]\n",
    "    corr_matrix[i][5] = stats.pearsonr(all_data['put_learn'], all_data['motor_learn'])[0]\n",
    "    corr_matrix[i][6] = stats.pearsonr(all_data['put_nonlearn'], all_data['motor_nonlearn'])[0] "
   ]
  },
  {
   "cell_type": "markdown",
   "metadata": {},
   "source": [
    "##  Non-normalized correlation matrix for beta series"
   ]
  },
  {
   "cell_type": "code",
   "execution_count": 22,
   "metadata": {
    "collapsed": true
   },
   "outputs": [],
   "source": [
    "corr_plot = {} #create Pandas dataframe to store correlations\n",
    "corr_plot['hp-mpfc_learn'] = corr_matrix[:,1] \n",
    "corr_plot['hp-mpfc_nonlearn'] = corr_matrix[:,2] \n",
    "corr_plot['caud-dlpfc_learn'] = corr_matrix[:,3] \n",
    "corr_plot['caud-dlpfc_nonlearn'] = corr_matrix[:,4] \n",
    "corr_plot['put-motor_learn'] = corr_matrix[:,5] \n",
    "corr_plot['put-motor_nonlearn'] = corr_matrix[:,6] \n",
    "corr_plot_df = pd.DataFrame.from_dict(corr_plot)"
   ]
  },
  {
   "cell_type": "code",
   "execution_count": 24,
   "metadata": {
    "collapsed": false,
    "scrolled": true
   },
   "outputs": [
    {
     "data": {
      "text/html": [
       "<div>\n",
       "<style scoped>\n",
       "    .dataframe tbody tr th:only-of-type {\n",
       "        vertical-align: middle;\n",
       "    }\n",
       "\n",
       "    .dataframe tbody tr th {\n",
       "        vertical-align: top;\n",
       "    }\n",
       "\n",
       "    .dataframe thead th {\n",
       "        text-align: right;\n",
       "    }\n",
       "</style>\n",
       "<table border=\"1\" class=\"dataframe\">\n",
       "  <thead>\n",
       "    <tr style=\"text-align: right;\">\n",
       "      <th></th>\n",
       "      <th>caud-dlpfc_learn</th>\n",
       "      <th>caud-dlpfc_nonlearn</th>\n",
       "      <th>hp-mpfc_learn</th>\n",
       "      <th>hp-mpfc_nonlearn</th>\n",
       "      <th>put-motor_learn</th>\n",
       "      <th>put-motor_nonlearn</th>\n",
       "    </tr>\n",
       "  </thead>\n",
       "  <tbody>\n",
       "    <tr>\n",
       "      <th>0</th>\n",
       "      <td>0.427086</td>\n",
       "      <td>0.322565</td>\n",
       "      <td>0.508444</td>\n",
       "      <td>0.478921</td>\n",
       "      <td>0.632533</td>\n",
       "      <td>0.718747</td>\n",
       "    </tr>\n",
       "    <tr>\n",
       "      <th>1</th>\n",
       "      <td>0.614353</td>\n",
       "      <td>0.752490</td>\n",
       "      <td>0.747364</td>\n",
       "      <td>0.749617</td>\n",
       "      <td>0.801992</td>\n",
       "      <td>0.792364</td>\n",
       "    </tr>\n",
       "    <tr>\n",
       "      <th>2</th>\n",
       "      <td>0.812812</td>\n",
       "      <td>0.590179</td>\n",
       "      <td>0.817648</td>\n",
       "      <td>0.480613</td>\n",
       "      <td>0.833713</td>\n",
       "      <td>0.620748</td>\n",
       "    </tr>\n",
       "    <tr>\n",
       "      <th>3</th>\n",
       "      <td>0.313278</td>\n",
       "      <td>0.490330</td>\n",
       "      <td>0.931644</td>\n",
       "      <td>0.724352</td>\n",
       "      <td>0.933733</td>\n",
       "      <td>0.721595</td>\n",
       "    </tr>\n",
       "    <tr>\n",
       "      <th>4</th>\n",
       "      <td>0.594177</td>\n",
       "      <td>0.409685</td>\n",
       "      <td>0.692399</td>\n",
       "      <td>0.709682</td>\n",
       "      <td>0.831248</td>\n",
       "      <td>0.592372</td>\n",
       "    </tr>\n",
       "    <tr>\n",
       "      <th>5</th>\n",
       "      <td>0.539163</td>\n",
       "      <td>0.615859</td>\n",
       "      <td>0.621397</td>\n",
       "      <td>0.773556</td>\n",
       "      <td>0.377339</td>\n",
       "      <td>0.425761</td>\n",
       "    </tr>\n",
       "    <tr>\n",
       "      <th>6</th>\n",
       "      <td>0.867424</td>\n",
       "      <td>0.872432</td>\n",
       "      <td>0.816153</td>\n",
       "      <td>0.825394</td>\n",
       "      <td>0.835039</td>\n",
       "      <td>0.835446</td>\n",
       "    </tr>\n",
       "    <tr>\n",
       "      <th>7</th>\n",
       "      <td>0.391024</td>\n",
       "      <td>0.435615</td>\n",
       "      <td>0.702042</td>\n",
       "      <td>0.484855</td>\n",
       "      <td>0.677502</td>\n",
       "      <td>0.579298</td>\n",
       "    </tr>\n",
       "    <tr>\n",
       "      <th>8</th>\n",
       "      <td>0.487706</td>\n",
       "      <td>0.638167</td>\n",
       "      <td>0.616525</td>\n",
       "      <td>0.578907</td>\n",
       "      <td>0.701774</td>\n",
       "      <td>0.610715</td>\n",
       "    </tr>\n",
       "    <tr>\n",
       "      <th>9</th>\n",
       "      <td>0.477658</td>\n",
       "      <td>0.035840</td>\n",
       "      <td>0.646764</td>\n",
       "      <td>0.496666</td>\n",
       "      <td>0.542743</td>\n",
       "      <td>0.601893</td>\n",
       "    </tr>\n",
       "    <tr>\n",
       "      <th>10</th>\n",
       "      <td>0.734428</td>\n",
       "      <td>0.788036</td>\n",
       "      <td>0.823889</td>\n",
       "      <td>0.762547</td>\n",
       "      <td>0.760510</td>\n",
       "      <td>0.825119</td>\n",
       "    </tr>\n",
       "    <tr>\n",
       "      <th>11</th>\n",
       "      <td>0.197251</td>\n",
       "      <td>0.555163</td>\n",
       "      <td>0.514831</td>\n",
       "      <td>0.510944</td>\n",
       "      <td>0.612509</td>\n",
       "      <td>0.613016</td>\n",
       "    </tr>\n",
       "    <tr>\n",
       "      <th>12</th>\n",
       "      <td>0.570693</td>\n",
       "      <td>0.586831</td>\n",
       "      <td>0.760122</td>\n",
       "      <td>0.796332</td>\n",
       "      <td>0.570439</td>\n",
       "      <td>0.637188</td>\n",
       "    </tr>\n",
       "    <tr>\n",
       "      <th>13</th>\n",
       "      <td>0.568732</td>\n",
       "      <td>0.443410</td>\n",
       "      <td>0.650514</td>\n",
       "      <td>0.547457</td>\n",
       "      <td>0.784365</td>\n",
       "      <td>0.688805</td>\n",
       "    </tr>\n",
       "    <tr>\n",
       "      <th>14</th>\n",
       "      <td>0.635592</td>\n",
       "      <td>0.592736</td>\n",
       "      <td>0.439548</td>\n",
       "      <td>0.235248</td>\n",
       "      <td>0.643048</td>\n",
       "      <td>0.427580</td>\n",
       "    </tr>\n",
       "    <tr>\n",
       "      <th>15</th>\n",
       "      <td>0.775426</td>\n",
       "      <td>0.696419</td>\n",
       "      <td>0.134789</td>\n",
       "      <td>0.177017</td>\n",
       "      <td>0.716084</td>\n",
       "      <td>0.742962</td>\n",
       "    </tr>\n",
       "    <tr>\n",
       "      <th>16</th>\n",
       "      <td>0.634598</td>\n",
       "      <td>0.429210</td>\n",
       "      <td>0.532527</td>\n",
       "      <td>0.537573</td>\n",
       "      <td>0.787724</td>\n",
       "      <td>0.619544</td>\n",
       "    </tr>\n",
       "    <tr>\n",
       "      <th>17</th>\n",
       "      <td>0.711137</td>\n",
       "      <td>0.731811</td>\n",
       "      <td>0.672190</td>\n",
       "      <td>0.448425</td>\n",
       "      <td>0.776678</td>\n",
       "      <td>0.789806</td>\n",
       "    </tr>\n",
       "    <tr>\n",
       "      <th>18</th>\n",
       "      <td>0.508264</td>\n",
       "      <td>0.510863</td>\n",
       "      <td>0.503019</td>\n",
       "      <td>0.389342</td>\n",
       "      <td>0.492096</td>\n",
       "      <td>0.619357</td>\n",
       "    </tr>\n",
       "    <tr>\n",
       "      <th>19</th>\n",
       "      <td>0.893535</td>\n",
       "      <td>0.908312</td>\n",
       "      <td>0.878521</td>\n",
       "      <td>0.914735</td>\n",
       "      <td>0.899382</td>\n",
       "      <td>0.926285</td>\n",
       "    </tr>\n",
       "  </tbody>\n",
       "</table>\n",
       "</div>"
      ],
      "text/plain": [
       "    caud-dlpfc_learn  caud-dlpfc_nonlearn  hp-mpfc_learn  hp-mpfc_nonlearn  \\\n",
       "0           0.427086             0.322565       0.508444          0.478921   \n",
       "1           0.614353             0.752490       0.747364          0.749617   \n",
       "2           0.812812             0.590179       0.817648          0.480613   \n",
       "3           0.313278             0.490330       0.931644          0.724352   \n",
       "4           0.594177             0.409685       0.692399          0.709682   \n",
       "5           0.539163             0.615859       0.621397          0.773556   \n",
       "6           0.867424             0.872432       0.816153          0.825394   \n",
       "7           0.391024             0.435615       0.702042          0.484855   \n",
       "8           0.487706             0.638167       0.616525          0.578907   \n",
       "9           0.477658             0.035840       0.646764          0.496666   \n",
       "10          0.734428             0.788036       0.823889          0.762547   \n",
       "11          0.197251             0.555163       0.514831          0.510944   \n",
       "12          0.570693             0.586831       0.760122          0.796332   \n",
       "13          0.568732             0.443410       0.650514          0.547457   \n",
       "14          0.635592             0.592736       0.439548          0.235248   \n",
       "15          0.775426             0.696419       0.134789          0.177017   \n",
       "16          0.634598             0.429210       0.532527          0.537573   \n",
       "17          0.711137             0.731811       0.672190          0.448425   \n",
       "18          0.508264             0.510863       0.503019          0.389342   \n",
       "19          0.893535             0.908312       0.878521          0.914735   \n",
       "\n",
       "    put-motor_learn  put-motor_nonlearn  \n",
       "0          0.632533            0.718747  \n",
       "1          0.801992            0.792364  \n",
       "2          0.833713            0.620748  \n",
       "3          0.933733            0.721595  \n",
       "4          0.831248            0.592372  \n",
       "5          0.377339            0.425761  \n",
       "6          0.835039            0.835446  \n",
       "7          0.677502            0.579298  \n",
       "8          0.701774            0.610715  \n",
       "9          0.542743            0.601893  \n",
       "10         0.760510            0.825119  \n",
       "11         0.612509            0.613016  \n",
       "12         0.570439            0.637188  \n",
       "13         0.784365            0.688805  \n",
       "14         0.643048            0.427580  \n",
       "15         0.716084            0.742962  \n",
       "16         0.787724            0.619544  \n",
       "17         0.776678            0.789806  \n",
       "18         0.492096            0.619357  \n",
       "19         0.899382            0.926285  "
      ]
     },
     "execution_count": 24,
     "metadata": {},
     "output_type": "execute_result"
    }
   ],
   "source": [
    "corr_plot_df"
   ]
  },
  {
   "cell_type": "code",
   "execution_count": 25,
   "metadata": {
    "collapsed": false
   },
   "outputs": [
    {
     "name": "stdout",
     "output_type": "stream",
     "text": [
      "Mean caud-dlpfc_learn:  0.587716811895\n",
      "STD caud-dlpfc_learn:  0.176545676154\n",
      "\n",
      "Mean caud-dlpfc_nonlearn:  0.570297472179\n",
      "STD caud-dlpfc_nonlearn:  0.196609388881\n",
      "\n",
      "Mean hp-mpfc_learn:  0.65051657185\n",
      "STD hp-mpfc_learn:  0.177410419907\n",
      "\n",
      "Mean hp-mpfc_nonlearn:  0.581109277904\n",
      "STD hp-mpfc_nonlearn:  0.191687922386\n",
      "\n",
      "Mean put-motor_learn:  0.710522423685\n",
      "STD put-motor_learn:  0.138804700626\n",
      "\n",
      "Mean put-motor_nonlearn:  0.669430059195\n",
      "STD put-motor_nonlearn:  0.12446647722\n",
      "\n"
     ]
    },
    {
     "data": {
      "image/png": "[encoded data removed]",
      "text/plain": [
       "<matplotlib.figure.Figure at 0x2b9d9a5d9050>"
      ]
     },
     "metadata": {},
     "output_type": "display_data"
    }
   ],
   "source": [
    "for key in corr_plot_df: #get mean and std of correlations for each regional pair\n",
    "    print \"Mean {0}: \".format(key), np.mean(corr_plot_df['{0}'.format(key)])\n",
    "    print \"STD {0}: \".format(key), np.std(corr_plot_df['{0}'.format(key)])\n",
    "    print \"\"    \n",
    "N = 6\n",
    "conditions = ['HPC-mPFC_learn', 'HPC-mPFC_nonlearn', \n",
    "              'Caud-dlPFC_learn', 'Caud-dlPFC_nonlearn',\n",
    "              'Put-Motor_learn', 'Put-Motor_nonlearn']\n",
    "allsubjs = [corr_plot['hp-mpfc_learn'], corr_plot['hp-mpfc_nonlearn'],\n",
    "            corr_plot['caud-dlpfc_learn'], corr_plot['caud-dlpfc_nonlearn'],\n",
    "            corr_plot['put-motor_learn'], corr_plot['put-motor_nonlearn']]\n",
    "ind = np.arange(N)\n",
    "fig, ax = plt.subplots(figsize = (12,6)) #large plot to represent all pairs\n",
    "ax = sns.boxplot(data = allsubjs, width = 0.3)\n",
    "ax = sns.swarmplot(data = allsubjs, color='.25')\n",
    "ax.set_xticks(ind)\n",
    "ax.set_xticklabels(conditions)\n",
    "ax.set_ylabel(\"Correlation (r)\")\n",
    "ax.set_title(\"Regional Coactivation\")\n",
    "plt.show()"
   ]
  },
  {
   "cell_type": "markdown",
   "metadata": {},
   "source": [
    "## Hippocampus"
   ]
  },
  {
   "cell_type": "code",
   "execution_count": 26,
   "metadata": {
    "collapsed": false
   },
   "outputs": [
    {
     "name": "stdout",
     "output_type": "stream",
     "text": [
      "Learn Norm Test (7.0595082749569134, 0.029312121733339368)\n",
      "Nonlearn Norm Test (0.39204357768144127, 0.82199432417966001)\n",
      "T-test: (2.5601039968075847, 0.019144047923293234)\n",
      "Cohen's d = 0.518018342708\n"
     ]
    },
    {
     "data": {
      "image/png": "[encoded data removed]",
      "text/plain": [
       "<matplotlib.figure.Figure at 0x2b9d9a3eabd0>"
      ]
     },
     "metadata": {},
     "output_type": "display_data"
    }
   ],
   "source": [
    "cohens_d = ((np.average(corr_plot['hp-mpfc_learn']) - np.average(corr_plot['hp-mpfc_nonlearn'])) \n",
    "            / (sqrt((np.std(corr_plot['hp-mpfc_learn'], ddof = 1)) ** 2 \n",
    "            + np.std(corr_plot['hp-mpfc_nonlearn'], ddof = 1) ** 2) / 2))\n",
    "print 'Learn Norm Test', stats.normaltest(corr_plot['hp-mpfc_learn'])[:]\n",
    "print 'Nonlearn Norm Test', stats.normaltest(corr_plot['hp-mpfc_nonlearn'])[:]\n",
    "print 'T-test:', stats.ttest_rel(corr_plot['hp-mpfc_learn'],corr_plot['hp-mpfc_nonlearn'])[:]\n",
    "print \"Cohen's d =\", cohens_d\n",
    "N = 2\n",
    "conditions = ['HPC-mPFC Learn', 'HPC-mPFC Nonlearn']\n",
    "allsubjs = [corr_plot['hp-mpfc_learn'], corr_plot['hp-mpfc_nonlearn']]\n",
    "ind = np.arange(N)   \n",
    "fig, ax = plt.subplots(figsize = (5,5))\n",
    "ax = sns.boxplot(data = allsubjs, width = 0.3)\n",
    "ax = sns.swarmplot(data = allsubjs, color = '.25')\n",
    "ax.set_xticklabels(conditions)\n",
    "ax.set_title(\"HPC-mPFC Coactivation\")\n",
    "ax.set_ylabel(\"Correlation (r)\")\n",
    "plt.show()"
   ]
  },
  {
   "cell_type": "code",
   "execution_count": 27,
   "metadata": {
    "collapsed": false
   },
   "outputs": [
    {
     "name": "stdout",
     "output_type": "stream",
     "text": [
      "Learn Norm Test (0.19189910740816166, 0.90850984586925476)\n",
      "Nonlearn Norm Test (3.5667733657053282, 0.16806798936389331)\n",
      "T-test: (0.452761209050692, 0.65584816727264728)\n",
      "Cohen's d = 0.128505667916\n"
     ]
    },
    {
     "data": {
      "image/png": "[encoded data removed]",
      "text/plain": [
       "<matplotlib.figure.Figure at 0x2b9d640586d0>"
      ]
     },
     "metadata": {},
     "output_type": "display_data"
    }
   ],
   "source": [
    "cohens_d = ((np.average(corr_plot['caud-dlpfc_learn']) - np.average(corr_plot['caud-dlpfc_nonlearn'])) \n",
    "            / (sqrt((np.std(corr_plot['caud-dlpfc_learn'], ddof = 1)) ** 2 \n",
    "            + np.std(corr_plot['caud-dlpfc_nonlearn'], ddof = 1) ** 2) / 2))\n",
    "print 'Learn Norm Test', stats.normaltest(corr_plot['caud-dlpfc_learn'])[:]\n",
    "print 'Nonlearn Norm Test', stats.normaltest(corr_plot['caud-dlpfc_nonlearn'])[:]\n",
    "print 'T-test:', stats.ttest_rel(corr_plot['caud-dlpfc_learn'],corr_plot['caud-dlpfc_nonlearn'])[:]\n",
    "print \"Cohen's d =\", cohens_d\n",
    "N = 2\n",
    "conditions = ['Caud-dlPFC Learn', 'Caud-dlPFC Nonlearn']\n",
    "allsubjs = [corr_plot['caud-dlpfc_learn'], corr_plot['caud-dlpfc_nonlearn']]\n",
    "ind = np.arange(N)   \n",
    "fig, ax = plt.subplots(figsize = (5,5))\n",
    "ax = sns.boxplot(data = allsubjs, width = 0.3)\n",
    "ax = sns.swarmplot(data = allsubjs, color = '.25')\n",
    "ax.set_xticklabels(conditions)\n",
    "ax.set_title(\"Caud-dlPFC Coactivation\")\n",
    "ax.set_ylabel(\"Correlation (r)\")\n",
    "plt.show()"
   ]
  },
  {
   "cell_type": "code",
   "execution_count": 28,
   "metadata": {
    "collapsed": false
   },
   "outputs": [
    {
     "name": "stdout",
     "output_type": "stream",
     "text": [
      "Learn Norm Test (1.7035676647027806, 0.42665317499099797)\n",
      "Nonlearn Norm Test (0.1019765480100675, 0.95028981356066555)\n",
      "T-test: (1.5855519704786272, 0.12934403250223236)\n",
      "Cohen's d = 0.429656599411\n"
     ]
    },
    {
     "data": {
      "image/png": "[encoded data removed]",
      "text/plain": [
       "<matplotlib.figure.Figure at 0x2b9d9a4003d0>"
      ]
     },
     "metadata": {},
     "output_type": "display_data"
    }
   ],
   "source": [
    "cohens_d = ((np.average(corr_plot['put-motor_learn']) - np.average(corr_plot['put-motor_nonlearn'])) \n",
    "            / (sqrt((np.std(corr_plot['put-motor_learn'], ddof = 1)) ** 2 \n",
    "            + np.std(corr_plot['put-motor_nonlearn'], ddof = 1) ** 2) / 2))\n",
    "print 'Learn Norm Test', stats.normaltest(corr_plot['put-motor_learn'])[:]\n",
    "print 'Nonlearn Norm Test', stats.normaltest(corr_plot['put-motor_nonlearn'])[:]\n",
    "print 'T-test:', stats.ttest_rel(corr_plot['put-motor_learn'],corr_plot['put-motor_nonlearn'])[:]\n",
    "print \"Cohen's d =\", cohens_d\n",
    "N = 2\n",
    "conditions = ['Put-Motor Learn', 'Put-Motor Nonlearn']\n",
    "allsubjs = [corr_plot['put-motor_learn'], corr_plot['put-motor_nonlearn']]\n",
    "ind = np.arange(N)   \n",
    "fig, ax = plt.subplots(figsize = (5,5))\n",
    "ax = sns.boxplot(data = allsubjs, width = 0.3)\n",
    "ax = sns.swarmplot(data = allsubjs, color = '.25')\n",
    "ax.set_xticklabels(conditions)\n",
    "ax.set_title(\"Put-Motor Coactivation\")\n",
    "ax.set_ylabel(\"Correlation (r)\")\n",
    "plt.show()"
   ]
  },
  {
   "cell_type": "code",
   "execution_count": null,
   "metadata": {
    "collapsed": false
   },
   "outputs": [],
   "source": [
    "print 'Mean'\n",
    "print 'HPC-mPFC Learning: ', np.average(correlation_chart['1_HPC-mPFC_learning'])\n",
    "print 'HPC-mPFC Nonlearning: ', np.average(correlation_chart['2_HPC-mPFC_nonlearning'])\n",
    "print 'Caudate-dlPFC Learning: ', np.average(correlation_chart['3_Caudate-dlPFC_learning'])\n",
    "print 'Caudate-dlPFC Nonlearning: ', np.average(correlation_chart['4_Caudate-dlPFC_nonlearning'])\n",
    "print 'Putamen-motor Learning: ', np.average(correlation_chart['5_Putamen-motor_learning'])\n",
    "print 'Putamen-motor Nonllearning: ', np.average(correlation_chart['6_Putamen-motor_nonlearning'])\n",
    "print \"\"\n",
    "print 'STD'\n",
    "print 'HPC-mPFC Learning: ', np.std(correlation_chart['1_HPC-mPFC_learning'])\n",
    "print 'HPC-mPFC Nonlearning: ', np.std(correlation_chart['2_HPC-mPFC_nonlearning'])\n",
    "print 'Caudate-dlPFC Learning: ', np.std(correlation_chart['3_Caudate-dlPFC_learning'])\n",
    "print 'Caudate-dlPFC Nonlearning: ', np.std(correlation_chart['4_Caudate-dlPFC_nonlearning'])\n",
    "print 'Putamen-motor Learning: ', np.std(correlation_chart['5_Putamen-motor_learning'])\n",
    "print 'Putamen-motor Nonllearning: ', np.std(correlation_chart['6_Putamen-motor_nonlearning'])\n",
    "print \"\"\n",
    "\n",
    "print 'HPC-mPFC Learning', stats.normaltest(correlation_chart['1_HPC-mPFC_learning'])[:]\n",
    "print 'HPC-mPFC Nonlearning', stats.normaltest(correlation_chart['2_HPC-mPFC_nonlearning'])[:]\n",
    "print \"\"\n",
    "print 'Caudate-dlPFC Learning', stats.normaltest(correlation_chart['3_Caudate-dlPFC_learning'])[:]\n",
    "print 'Caudate-dlPFC Nonlearning', stats.normaltest(correlation_chart['4_Caudate-dlPFC_nonlearning'])[:]\n",
    "print \"\"\n",
    "print 'Putamen-motor Learning', stats.normaltest(correlation_chart['5_Putamen-motor_learning'])[:]\n",
    "print 'Putamen-motor Nonlearning', stats.normaltest(correlation_chart['6_Putamen-motor_nonlearning'])[:]"
   ]
  },
  {
   "cell_type": "markdown",
   "metadata": {},
   "source": [
    "## Normalized correlation matrix for beta series"
   ]
  },
  {
   "cell_type": "code",
   "execution_count": null,
   "metadata": {
    "collapsed": false
   },
   "outputs": [],
   "source": [
    "# Use Numpy's arctangent function to normalize correlations\n",
    "norm_corr = np.arctanh(corr_matrix[:, 1:])\n",
    "#print(norm_nonlearning)"
   ]
  },
  {
   "cell_type": "code",
   "execution_count": null,
   "metadata": {
    "collapsed": false
   },
   "outputs": [],
   "source": [
    "import pandas as pd\n",
    "norm_chart = {}\n",
    "norm_chart['1_HPC-mPFC_learning'] = norm_corr[:, 0]\n",
    "norm_chart['2_HPC-mPFC_nonlearning'] = norm_corr[:, 1] \n",
    "norm_chart['3_Caudate-dlPFC_learning'] = norm_corr[:, 2]\n",
    "norm_chart['4_Caudate-dlPFC_nonlearning'] = norm_corr[:, 3]\n",
    "norm_chart['5_Putamen-motor_learning'] = norm_corr[:, 4]\n",
    "norm_chart['6_Putamen-motor_nonlearning'] = norm_corr[:, 5]\n",
    "norm_chart_df = pd.DataFrame.from_dict(norm_chart)"
   ]
  },
  {
   "cell_type": "code",
   "execution_count": null,
   "metadata": {
    "collapsed": false
   },
   "outputs": [],
   "source": [
    "norm_chart_df"
   ]
  },
  {
   "cell_type": "markdown",
   "metadata": {},
   "source": [
    "### Descriptive Statistics"
   ]
  },
  {
   "cell_type": "code",
   "execution_count": null,
   "metadata": {
    "collapsed": false
   },
   "outputs": [],
   "source": [
    "print \"Mean: HPC-mPFC_learning: \", np.average(norm_corr[:, 0])\n",
    "print stats.sem(norm_corr[:, 0])\n",
    "print \"\"\n",
    "print \"Mean: HPC-mPFC_nonlearning: \", np.average(norm_corr[:, 1])\n",
    "print stats.sem(norm_corr[:, 1])\n",
    "print \"\"\n",
    "print \"Mean: Caudate-dlPFC_learning: \", np.average(norm_corr[:, 2])\n",
    "print stats.sem(norm_corr[:, 2])\n",
    "print \"\"\n",
    "print \"Mean: Caudate-dlPFC_nonlearning: \", np.average(norm_corr[:, 3])\n",
    "print stats.sem(norm_corr[:, 3])\n",
    "print \"\"\n",
    "print \"Mean: Putamen-motor_learning: \", np.average(norm_corr[:, 4])\n",
    "print stats.sem(norm_corr[:, 2])\n",
    "print \"\"\n",
    "print \"Mean: Putamen-motor_nonlearning:\", np.average(norm_corr[:, 5])\n",
    "print stats.sem(norm_corr[:, 3])"
   ]
  },
  {
   "cell_type": "markdown",
   "metadata": {},
   "source": [
    "### Inferential Statistics"
   ]
  },
  {
   "cell_type": "code",
   "execution_count": null,
   "metadata": {
    "collapsed": false
   },
   "outputs": [],
   "source": [
    "print 'T-test: HPC-mPFC_learning vs. HPC-mPFC_nonlearning'\n",
    "print stats.ttest_rel(norm_corr[:, 0], norm_corr[:, 1])\n",
    "print \"\"\n",
    "\n",
    "print 'T-test: Caudate-dlPFC_learning vs. Caudate-dlPFC_nonlearning'\n",
    "print stats.ttest_rel(norm_corr[:, 2], norm_corr[:, 3])\n",
    "print \"\"\n",
    "\n",
    "print 'T-test: Putamen-motor_learning vs. Putamen-motor_nonlearning'\n",
    "print stats.ttest_rel(norm_corr[:, 4], norm_corr[:, 5])\n",
    "print \"\"\n",
    "\n",
    "print \"Bonferroni correction\"\n",
    "print '0.05/2 = 0.025'"
   ]
  },
  {
   "cell_type": "markdown",
   "metadata": {},
   "source": [
    "## Scatterplots"
   ]
  },
  {
   "cell_type": "code",
   "execution_count": null,
   "metadata": {
    "collapsed": false
   },
   "outputs": [],
   "source": [
    "ax = []\n",
    "for a in range(0,115,1):\n",
    "    ax.append(a)\n",
    "x = ax\n",
    "\n",
    "y = all_data['hp_learning']\n",
    "z = all_data['mPFC_learning']\n",
    "\n",
    "fig, (ax, ax2) = plt.subplots(ncols = 2, figsize=(9, 4), sharex = True, sharey = True)\n",
    "ax.plot(x, y, color = 'blue')\n",
    "ax.set_ylabel('Activation')\n",
    "ax.set_xlabel('Trials')\n",
    "ax.set_title('HPC Activation Across Learning Trials')\n",
    "\n",
    "ax2.plot(x, z, color = 'purple')\n",
    "ax2.set_ylabel('Activation')\n",
    "ax2.set_xlabel('Trials')\n",
    "ax2.set_title('mPFC Activation Across Learning Trials')\n",
    "plt.tight_layout()"
   ]
  },
  {
   "cell_type": "code",
   "execution_count": null,
   "metadata": {
    "collapsed": false
   },
   "outputs": [],
   "source": [
    "ax = []\n",
    "for a in range(0,115,1):\n",
    "    ax.append(a)\n",
    "x = ax\n",
    "\n",
    "y = all_data['caudate_learning']\n",
    "z = all_data['dlPFC_learning']\n",
    "\n",
    "fig, (ax, ax2) = plt.subplots(ncols = 2, figsize=(9, 4), sharex = True, sharey = True)\n",
    "ax.plot(x, y, color = 'blue')\n",
    "ax.set_ylabel('Activation')\n",
    "ax.set_xlabel('Trials')\n",
    "ax.set_title('Caudate Activation Across Learning Trials')\n",
    "\n",
    "ax2.plot(x, z, color = 'purple')\n",
    "ax2.set_ylabel('Activation')\n",
    "ax2.set_xlabel('Trials')\n",
    "ax2.set_title('dlPFC Activation Across Learning Trials')\n",
    "plt.tight_layout()"
   ]
  },
  {
   "cell_type": "code",
   "execution_count": null,
   "metadata": {
    "collapsed": false
   },
   "outputs": [],
   "source": [
    "ax = []\n",
    "for a in range(0,115,1):\n",
    "    ax.append(a)\n",
    "x = ax\n",
    "\n",
    "y = all_data['putamen_learning']\n",
    "z = all_data['motor_learning']\n",
    "\n",
    "fig, (ax, ax2) = plt.subplots(ncols = 2, figsize=(9, 4), sharex = True, sharey = True)\n",
    "ax.plot(x, y, color = 'blue')\n",
    "ax.set_ylabel('Activation')\n",
    "ax.set_xlabel('Trials')\n",
    "ax.set_title('Putamen Activation Across Learning Trials')\n",
    "\n",
    "ax2.plot(x, z, color = 'purple')\n",
    "ax2.set_ylabel('Activation')\n",
    "ax2.set_xlabel('Trials')\n",
    "ax2.set_title('Motor Activation Across Learning Trials')\n",
    "plt.tight_layout()"
   ]
  },
  {
   "cell_type": "code",
   "execution_count": null,
   "metadata": {
    "collapsed": true
   },
   "outputs": [],
   "source": []
  }
 ],
 "metadata": {
  "anaconda-cloud": {},
  "kernelspec": {
   "display_name": "Python 2",
   "language": "python",
   "name": "python2"
  },
  "language_info": {
   "codemirror_mode": {
    "name": "ipython",
    "version": 2
   },
   "file_extension": ".py",
   "mimetype": "text/x-python",
   "name": "python",
   "nbconvert_exporter": "python",
   "pygments_lexer": "ipython2",
   "version": "2.7.12"
  }
 },
 "nbformat": 4,
 "nbformat_minor": 2
}
